{
 "cells": [
  {
   "cell_type": "markdown",
   "metadata": {},
   "source": [
    "#### 1. Baseline Model\n",
    "\n",
    "How it works:\n",
    "- for each month, we ranked companies according to their mean engagement rates\n",
    "- in the end, we averaged the company rankings and took the top and bottom three as outliers\n",
    "\n",
    "Reasons:\n",
    "- need something to start with\n",
    "- measure consistency and social media engagement (relative to followers), which is one of the most relevant metrics used in social media marketing.\n",
    "- gives insight into best-performing and worst-performing companies, which can serve as indicators for investment opportunities and risk management, which we will explore more **in a later section**\n",
    "\n",
    "Results:\n",
    "Looking at the top ranked company each montch yields 28 companies which occupied this spot. This indicates that the space for online engagement is heavily contested and user engagement is not very steady. Nonetheless, engagement is distributed very unequally - there is a small subset of companies, which \"figured out\" social media, who compete for the top spots of user engagement. To analize what makes a company over- or underperform on social media metrics, we further examine the top and bottom 3 companies of all time. These are calculated by averaging the ranks of all companies over all the respective months, where they have been present on social media. This yields the following table, where the rank rated by engagement rate is their average rank out of 704 companies. Here we display the top 10 companies\n",
    "|                 |    rank |   n_months |\n",
    "|:----------------|--------:|-----------:|\n",
    "| Dr. Martens     | 614.388 |         67 |\n",
    "| Inov-8          | 615.493 |         67 |\n",
    "| Crocs           | 616.493 |         67 |\n",
    "| JD Sports       | 622.299 |         67 |\n",
    "| ShopGoodwill    | 623.5   |          2 |\n",
    "| Funko           | 643.429 |         63 |\n",
    "| SHEIN           | 649.701 |         67 |\n",
    "| Pop Mart        | 679.182 |         11 |\n",
    "| Fashion Nova    | 683.944 |         36 |\n",
    "| Finding Unicorn | 691.182 |         11 |\n",
    "And analogously the bottom 10\n",
    "|           |    rank |   n_months |\n",
    "|:----------|--------:|-----------:|\n",
    "| Boca      |  5.06   |         50 |\n",
    "| Helix     | 20.5309 |         81 |\n",
    "| Powerade  | 24.8587 |         92 |\n",
    "| Bobstore  | 29.9841 |         63 |\n",
    "| Leesa     | 36.9529 |         85 |\n",
    "| Purina    | 37.5821 |         67 |\n",
    "| City Chic | 38.254  |         63 |\n",
    "| INDIO     | 40.4688 |         64 |\n",
    "| Natura    | 42.9674 |         92 |\n",
    "| Ragu      | 43.6071 |         84 |\n",
    "\n",
    "\n"
   ]
  }
 ],
 "metadata": {
  "language_info": {
   "name": "python"
  }
 },
 "nbformat": 4,
 "nbformat_minor": 2
}
