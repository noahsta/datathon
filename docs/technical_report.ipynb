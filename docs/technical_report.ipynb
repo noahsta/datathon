{
 "cells": [
  {
   "cell_type": "markdown",
   "metadata": {},
   "source": [
    "# UBS Challenge Submission"
   ]
  },
  {
   "cell_type": "markdown",
   "metadata": {},
   "source": [
    "Group Name: \"\" (empty string)\n",
    "\n",
    "Group Participants: ...\n",
    "\n",
    "The culmination of your submission should be a technical report that outlines your analytical journey, highlighting the methodologies employed, any obstacles encountered along the way, and the strategies adopted to\n",
    "overcome these challenges."
   ]
  },
  {
   "cell_type": "markdown",
   "metadata": {},
   "source": [
    "## 1. Data Understanding"
   ]
  },
  {
   "cell_type": "markdown",
   "metadata": {},
   "source": [
    "### i. Data Cleaning and Preprocessing\n",
    "\n",
    "Provide a detailed account of the initial steps taken to prepare the data for analysis.\n",
    "\n",
    "This should include a description of how data quality issues, such as missing values or outliers, were addressed.\n",
    "\n",
    "1. Exploratory Data Analysis\n",
    "   - Examination and understanding of the dataset's structure and content\n",
    "   - Performing exploratory data analysis to understand:\n",
    "     - data patterns, \n",
    "     - outliers, and\n",
    "     - relationships between variables\n",
    "\n",
    "2. Data Cleaning\n",
    "   - Data preprocessing, include, but not limited to:\n",
    "     - handling missing values, \n",
    "     - data conversions, and \n",
    "     - normalization"
   ]
  },
  {
   "cell_type": "markdown",
   "metadata": {},
   "source": [
    "### ii. Assumptions\n",
    "\n",
    "Clearly articulate any assumptions that were made during the data preparation phase."
   ]
  },
  {
   "cell_type": "markdown",
   "metadata": {},
   "source": [
    "### iii. Feature Engineering and Data Augmentation\n",
    "\n",
    "Describe any techniques employed to enhance the dataset, whether through the creation of new features or augmentation of the existing data.\n",
    "\n",
    "Goal: create relevant features for identifying deviations"
   ]
  },
  {
   "cell_type": "markdown",
   "metadata": {},
   "source": [
    "## 2. Model Approach\n",
    "\n",
    "### i. Model Selection\n",
    "\n",
    "Explain on the choice(s) of statistical or machine learning model(s) utilized in your analysis. Provide a compelling justification for each model selected, emphasizing how they align with the objectives of the challenge.\n",
    "\n",
    "How could we go about solving this challenge?"
   ]
  },
  {
   "cell_type": "markdown",
   "metadata": {},
   "source": [
    "### ii. Recommendation for Model Enhancement\n",
    "\n",
    "Conclude with a thoughtful reflection on potential avenues for further improving your model. Propose specific modifications or additional analyses that could refine your predictions and insights."
   ]
  },
  {
   "cell_type": "markdown",
   "metadata": {},
   "source": [
    "## 3. Actionable Insights\n",
    "\n",
    "In the process of finding outliers within the given dataset, we came to an understanding of the trends that govern social media performance of the given firms.\n",
    "\n",
    "We need insights into:\n",
    "\n",
    "1. identify outlier firms that are performing exceptionally well on social media\n",
    "  \n",
    "    -> this could indicate strong brand engagement and customer loyalty\n",
    "    -> might translate into future profitability\n",
    "    -> investment opportunities\n",
    "\n",
    "    find why they are well-performing?\n",
    "    \n",
    "    possible causes:\n",
    "    - compare to industry?\n",
    "    - long & strong brand history\n",
    "    - strong brand ambassadors\n",
    "    - good ethics of company (planting trees etc)\n",
    "    - funny social media accounts whatever\n",
    "\n",
    "2. identify outlier firms on lower end\n",
    "\n",
    "    -> signals issues with brand perception, customer engagement, or emerging crises\n",
    "    -> poses risk to company's long-term stability \n",
    "    -> requires proactive (risk) management.\n",
    "\n",
    "    why are they not well-performing?\n",
    "    - industry?\n",
    "    - scandals?\n",
    "    - stock development?\n",
    "\n",
    "3. identify market trends, industry trends\n",
    "\n",
    "    - this is actually more of the data exploration part, but we need to synthesize the findings into the insights report because other groups might not do it, so it gives us an edge\n",
    "  \n",
    "    -> can indicate broader market trends / shifts in consumer behaviour\n",
    "    -> can help more informed broadcasting & market analysis\n",
    "    -> more of a tool to use as input to more complex market models\n",
    "    -> can probably work well together with recent LLMs that consume market news/sentiment because social media is a good representation of what people think\n",
    "\n",
    "4. identify actual weird outlier firms -> can generate solid investment advice, probably\n",
    "\n",
    "    -> idea with k-means clustering: have them clustered according to performance features\n",
    "    -> then find \"bad stock performance\" companies in \"good social media performance\" companies and vice versa\n",
    "\n",
    "5. general UBS use of our analysis: advise their customers why their competitors are outliers, which can help the clients refine their competitive strategies. Identifying key factors leading to higher engagement can inform better marketing strategies. & also: Product and Service Development: Insights derived from social media performance can influence decisions about product innovations or adjustments, focusing on areas that resonate with or displease the market."
   ]
  }
 ],
 "metadata": {
  "language_info": {
   "name": "python"
  }
 },
 "nbformat": 4,
 "nbformat_minor": 2
}
