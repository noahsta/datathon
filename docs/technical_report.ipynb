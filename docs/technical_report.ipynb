{
 "cells": [
  {
   "cell_type": "markdown",
   "metadata": {},
   "source": [
    "# UBS Challenge Submission"
   ]
  },
  {
   "cell_type": "markdown",
   "metadata": {},
   "source": [
    "Group Name: \"\" (empty string)\n",
    "Group Participants: ...\n",
    "\n",
    "The culmination of your submission should be a technical report that outlines your analytical journey, highlighting the methodologies employed, any obstacles encountered along the way, and the strategies adopted to\n",
    "overcome these challenges."
   ]
  },
  {
   "cell_type": "markdown",
   "metadata": {},
   "source": [
    "## 1. Data Understanding Summary"
   ]
  },
  {
   "cell_type": "markdown",
   "metadata": {},
   "source": [
    "### i. Data Cleaning and Preprocessing\n",
    "\n",
    "Provide a detailed account of the initial steps taken to prepare the data for analysis.\n",
    "\n",
    "This should include a description of how data quality issues, such as missing values or outliers, were addressed.\n",
    "\n",
    "1. Exploratory Data Analysis\n",
    "   - Examination and understanding of the dataset's structure and content\n",
    "   - Performing exploratory data analysis to understand:\n",
    "     - data patterns, \n",
    "     - outliers, and\n",
    "     - relationships between variables\n",
    "\n",
    "2. Data Cleaning\n",
    "   - Data preprocessing, include, but not limited to:\n",
    "     - handling missing values, \n",
    "     - data conversions, and \n",
    "     - normalization"
   ]
  },
  {
   "cell_type": "markdown",
   "metadata": {},
   "source": [
    "### ii. Assumptions\n",
    "\n",
    "Clearly articulate any assumptions that were made during the data preparation phase."
   ]
  },
  {
   "cell_type": "markdown",
   "metadata": {},
   "source": [
    "### iii. Feature Engineering and Data Augmentation\n",
    "\n",
    "Describe any techniques employed to enhance the dataset, whether through the creation of new features or augmentation of the existing data.\n",
    "\n",
    "Goal: create relevant features for identifying deviations"
   ]
  },
  {
   "cell_type": "markdown",
   "metadata": {},
   "source": [
    "## 2. Model Approach Summary\n",
    "\n",
    "### i. Model Selection\n",
    "\n",
    "Explain on the choice(s) of statistical or machine learning model(s) utilized in your analysis. Provide a compelling justification for each model selected, emphasizing how they align with the objectives of the challenge."
   ]
  },
  {
   "cell_type": "markdown",
   "metadata": {},
   "source": [
    "### ii. Recommendation for Model Enhancement\n",
    "\n",
    "Conclude with a thoughtful reflection on potential avenues for further improving your model. Propose specific modifications or additional analyses that could refine your predictions and insights."
   ]
  },
  {
   "cell_type": "markdown",
   "metadata": {},
   "source": []
  }
 ],
 "metadata": {
  "language_info": {
   "name": "python"
  }
 },
 "nbformat": 4,
 "nbformat_minor": 2
}
