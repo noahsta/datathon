{
 "cells": [
  {
   "cell_type": "markdown",
   "metadata": {},
   "source": [
    "# UBS Challenge Submission"
   ]
  },
  {
   "cell_type": "markdown",
   "metadata": {},
   "source": [
    "Group Name: \"\" (empty string)\n",
    "\n",
    "Group Participants: Maxim Huber, Elias Mbarek, Michal Mikuta, Noah Stäuble"
   ]
  },
  {
   "cell_type": "markdown",
   "metadata": {},
   "source": [
    "## Brief Challenge Description:\n",
    "\n",
    "## Report Overview\n",
    "\n",
    "1. Data Understanding\n",
    "   1. Data Cleaning and Preprocessing\n",
    "   2. Assumptions on Data\n",
    "   3. Feature Engineering and Data Augmentation\n",
    "2. Modelling Approach\n",
    "   1. Model Selection\n",
    "   2. Recommendation for Model Enhancement\n",
    "3. Actionable Insights"
   ]
  },
  {
   "cell_type": "code",
   "execution_count": 9,
   "metadata": {},
   "outputs": [
    {
     "name": "stdout",
     "output_type": "stream",
     "text": [
      "/Users/maximhuber/Developer/datathon/docs/../data\n"
     ]
    }
   ],
   "source": [
    "import pandas as pd\n",
    "import numpy as np\n",
    "import os\n",
    "import matplotlib.pyplot as plt\n",
    "\n",
    "path = os.path.join(os.path.join(os.getcwd(), os.pardir),\"data\")\n",
    "print(path)\n",
    "file = os.path.join(path, \"skylab_instagram_datathon_dataset.csv\")\n",
    "data = pd.read_csv(file, delimiter=\";\")"
   ]
  },
  {
   "cell_type": "markdown",
   "metadata": {},
   "source": [
    "## 1. Data Understanding"
   ]
  },
  {
   "cell_type": "markdown",
   "metadata": {},
   "source": [
    "### Data Cleaning and Preprocessing\n",
    "\n",
    "A general issue data scientists face is data cleaning. This is why we spent efforts on understanding our dataset and cleaning it.\n",
    "\n",
    "Some of the issues we faced included:\n",
    "\n",
    "1. NaNs\n",
    "2. Unordered data\n",
    "3. Duplicate rows\n",
    "4. Mappings between compset_groups, compsets, business entities, and so on.\n",
    "5. Company Acquisitions\n",
    "6. Data normalization -> maybe explain a bit (only for k-means)\n",
    "7. we found a brand called \"All Brands\" - dropped because of aggregate\n",
    "\n",
    "#### Grouping and sorting data\n",
    "\n",
    "Before doing anything, we made sure we had order in our dataset.\n",
    "\n",
    "We made sure to group the data by `business_entity_doing_business_as_name`. Then we made sure to order the values for each business item by increasing `period_end_date`."
   ]
  },
  {
   "cell_type": "markdown",
   "metadata": {},
   "source": [
    "#### Adressing NaNs\n",
    "\n",
    "We figured that ~30 % of data is NaN values. Due to the \"big\" amount of missing data, we decided that imputing the data makes more sense than dropping incomplete rows.\n",
    "\n",
    "Because we worked with time-series data, we thought that it is suitable to linearly interpolate missing numerical data between adjacent values. This aligns with the goal of finding outliers - linearly interpolating continues trends and should not cause too much smoothing, which might be observed when imputing with the mean over a bigger time-span. If there remained any leading or trailing NaN-values, we chose to drop them, since there was no useful way to interpolate them."
   ]
  },
  {
   "cell_type": "markdown",
   "metadata": {},
   "source": [
    "#### Nearly-Duplicate Rows\n",
    "\n",
    "Next, we realized that for some rows, we had multiple entries for the same company in different categories of`compset`.\n",
    "\n",
    "We therefore mapped individual rows which only different in the `compset` column to have list in the `compset` column. This step is important because if we compute means over whole industries or the entire market, the computation would be biased towards companies which are present in multiple competitive sets. As a side effect, we were also able to reduce the size of our dataset."
   ]
  },
  {
   "cell_type": "markdown",
   "metadata": {},
   "source": [
    "### Exploratory Data Analysis\n",
    "\n",
    "In a following step, we really tried to understand how our data is structured and what it reveals about the real world. For this, we \n",
    "\n",
    "- first needed to generate mappings between compset_group, compset, business_entity name etc...\n",
    "\n",
    "After, we could\n",
    "- compare industries to the whole market\n",
    "- compare compsets within compset_groups\n",
    "- compare companies within compset\n",
    "\n",
    "#### Industries and Sub-Industries\n",
    "\n",
    "First, we made sure we understood what industries we are working with. We iterated over the csv file and found the following (shortened) hierarchical structure:"
   ]
  },
  {
   "cell_type": "code",
   "execution_count": 7,
   "metadata": {},
   "outputs": [
    {
     "name": "stdout",
     "output_type": "stream",
     "text": [
      "Luxury & Premium & Mainstream\n",
      "['US Softlines Analyst Interest List', 'Luxury & Premium & Mainstream', 'Footwear', 'Premium Brands', 'Soft Luxury', 'Hard Luxury', 'Mid-Range Watch & Jewelry', 'Mainstream Brands', 'Global Luxury Analysts Interest List']\n",
      "\n",
      "Restaurants\n",
      "['Fast Casual', 'Restaurants', 'Casual Dining', 'QSR', 'Coffee']\n",
      "\n",
      "Beverages\n",
      "['Energy drinks', 'Alcohol', 'Beverages', 'Soda', 'Sports drinks']\n",
      "\n"
     ]
    }
   ],
   "source": [
    "# Code showing some hierarchical structure for industries. Here, we could maybe make some nice tree plots or so that \"haut sie vom hocker\"\n",
    "import json\n",
    "\n",
    "# Map from compset_group -> compset\n",
    "map_path = '../out/compset_group_to_compset_map.json'\n",
    "with open(map_path, 'r') as f:\n",
    "    map_data = json.load(f)\n",
    "\n",
    "counter = 0  # Limit the printing\n",
    "for key, value in map_data.items():\n",
    "    print(key)\n",
    "    print(value)\n",
    "    print()  # Add an empty line after each key's values\n",
    "    counter += 1  # Increment the counter\n",
    "    if counter == 3:  # Check if we've printed 3 key-value pairs\n",
    "        break  # If yes, break out of the loop"
   ]
  },
  {
   "cell_type": "markdown",
   "metadata": {},
   "source": [
    "### Understanding the Market\n",
    "Next, we made sure we understood broad trends between industries. Through some basic plots filtering by the different industries, we detected a lot of variability both within and between the different types of companies. What's more, the data columns provided to us (\"followers\", \"picture\" etc.) doesn't exhibit any immediate room for conclusions. Therefore we decided to engineer a series of features, that can make analysis more graspable.\n"
   ]
  },
  {
   "cell_type": "code",
   "execution_count": null,
   "metadata": {},
   "outputs": [],
   "source": [
    "from IPython.display import Image  \n",
    "plot1 = Image(\"img1.png\")\n",
    "plot2 = Image(\"img2.png\")\n",
    "plot3 = Image(\"img3.png\") #plots included in Jupyter"
   ]
  },
  {
   "cell_type": "markdown",
   "metadata": {},
   "source": [
    "### 1.2 Assumptions\n",
    "Assumptions made so far:\n",
    "- assuming that the data is representative of all the major brands or that the followers count directly impacts brand popularity.\n",
    "- Post data is not only general advertisement but also general posts on the company profiles\n",
    "- We acknowledge the impact of covid on our underlying regimes and consider this in our second model\n",
    "- We assume no company acquisitions per year(which holds for most of the data, but not for all (e.g. LVMH)) \n"
   ]
  },
  {
   "cell_type": "markdown",
   "metadata": {},
   "source": [
    "### 1.3 Feature Engineering and Data Augmentation\n",
    "\n",
    "To be able to work with more relevant data, we decided to transform our raw data into widely used marketing measures, which better represent the engagement of the  customer with companies social media presence. To this end we employ the following metrics:\n",
    "\n",
    "- 'followers_delta', 'followers_second_delta': first, second difference of followers\n",
    "- 'followers_spike': 1 if the followers_delta differs from its median by one std, 0 else\n",
    "- 'average_engagement_per_post': engagements (likes + comments) / post (be it picture or video)\n",
    "- 'per_post_aquisition': followers_delta / engagement, represents sensitivity of follower growth with respect to engagement , large values may indicate an effective engagement strategy\n",
    "- 'engagement_rate': engagements/followers\n",
    "- 'relative_growth': followers_delta / followers\n",
    "- 'growth_per_post': relative_growth / post, represents sensitivity of relativized growth with respect to number of posts, large values may indicate an efficient number of posts used to generate growth\n",
    "- 'growth_per_engagement': relative_growth / engagement\n",
    "- 'virality_index': engagement * relative_growth, we chose to relativize engagement with respect to growth \n",
    "\n",
    "\n",
    "This is an exhaustive list of industry standards, which we could adapt to our type of data. In later analysis of outliers, we will see which features contribute most to extraordinary behavior of a company.\n",
    "  \n",
    "### iv. Feature Exploration\n",
    "\n",
    "Among our features, we consider engagement rate to be one of the most useful and simple. That's why we look at it's distribution for different industries.\n",
    "![title](img1.png)\n",
    "\n",
    "Analogous to the simple features, there is great variability between the different industries. We can already see trends that industries such as Clothing (apparel retail, sports clothing) and luxury goods achieve high engagement on social media platform. In our later analysis we hope to identify the features which predict such phenomena.\n",
    "\n",
    "Since all our data is time-based, we decided to look at data of one interesting category (apparel retail) over time. Specifically, we are interested in trends concerning virality.\n",
    "![title](img2.png)\n",
    "\n",
    "Eventhough we can see some general peaks, where there seems to be more total engagement with the industry, there is still a lot of variability between the different companies. This will inform us about any sudden bursts of growth in the social media presence of the industry\n",
    "\n",
    "Looking at one specific company (the chinese retailer Shein) and the development of it's absolute growth. It's a new company living of online trade and delivery, which indicates that social media is crucial in the business model of Shein.\n",
    "![title](img3.png)\n",
    "\n",
    "We can see that during the time of the coronavirus pandemic, there was a huge spike not only in users but also growth. It seems that we can extract such tangible statements from the study of single companies, while the size of the whole dataset is very overwhelming. Therefore the majority of our following models are devoted to the study of outliers and extraordinary company profiles.\n",
    "\n"
   ]
  },
  {
   "cell_type": "markdown",
   "metadata": {},
   "source": [
    "## 2. Model Approach\n",
    "\n",
    "### 2.1 Model Selection\n",
    "\n",
    "In the following, we detail why our model choices make sense in the broader setting.\n",
    "\n",
    "#### 1. Baseline Model\n",
    "\n",
    "How it works:\n",
    "- for each month, we ranked companies according to their mean engagement rates\n",
    "- in the end, we averaged the company rankings and took the top and bottom three as outliers\n",
    "\n",
    "Reasons:\n",
    "- need something to start with\n",
    "- measure consistency and social media engagement (relative to followers), which is one of the most relevant metrics used in social media marketing.\n",
    "- gives insight into best-performing and worst-performing companies, which can serve as indicators for investment opportunities and risk management, which we will explore more **in a later section**\n",
    "\n",
    "Results:\n",
    "Looking at the top ranked company each montch yields 28 companies which occupied this spot. This indicates that the space for online engagement is heavily contested and user engagement is not very steady. Nonetheless, engagement is distributed very unequally - there is a small subset of companies, which \"figured out\" social media, who compete for the top spots of user engagement. To analize what makes a company over- or underperform on social media metrics, we further examine the top and bottom 3 companies of all time. These are calculated by averaging the ranks of all companies over all the respective months, where they have been present on social media. This yields the following table, where the rank rated by engagement rate is their average rank out of 704 companies. Here we display the top 10 companies\n",
    "|                 |    rank |   n_months |\n",
    "|:----------------|--------:|-----------:|\n",
    "| Dr. Martens     | 614.388 |         67 |\n",
    "| Inov-8          | 615.493 |         67 |\n",
    "| Crocs           | 616.493 |         67 |\n",
    "| JD Sports       | 622.299 |         67 |\n",
    "| ShopGoodwill    | 623.5   |          2 |\n",
    "| Funko           | 643.429 |         63 |\n",
    "| SHEIN           | 649.701 |         67 |\n",
    "| Pop Mart        | 679.182 |         11 |\n",
    "| Fashion Nova    | 683.944 |         36 |\n",
    "| Finding Unicorn | 691.182 |         11 |\n",
    "\n",
    "And analogously the bottom 10\n",
    "|           |    rank |   n_months |\n",
    "|:----------|--------:|-----------:|\n",
    "| Boca      |  5.06   |         50 |\n",
    "| Helix     | 20.5309 |         81 |\n",
    "| Powerade  | 24.8587 |         92 |\n",
    "| Bobstore  | 29.9841 |         63 |\n",
    "| Leesa     | 36.9529 |         85 |\n",
    "| Purina    | 37.5821 |         67 |\n",
    "| City Chic | 38.254  |         63 |\n",
    "| INDIO     | 40.4688 |         64 |\n",
    "| Natura    | 42.9674 |         92 |\n",
    "| Ragu      | 43.6071 |         84 |\n",
    "\n",
    "What's immediately noteworthy is that companies with the lowest engagement have nonetheless been on the platform for some time, while there are very new companies that can be among the top. This highlights the fast-pace nature of the social media environment for companies.\n",
    "\n",
    "\"Finding Unicorn\" seems to be taking the best advantage of this. It's a Toy manufacturer producing cute figurine art toys. They self-categorize as a trend-art company. Their products are very visual in nature, making for very engaging social media posts. Additionally, the company is rather small and seems to put a lot of effort into it's friendly image, which may encourage users to engage more with their content rather than just consuming it.\n",
    "\n",
    "\"Pop Mart\" is a very similar business. However, in contrast to \"Finding Unicorn\" they seem to put less value in appearing like a small local company harboring creativity and artistic expression. This indicates that such an image, while useful, is not necessary to succeed on social media. Such user behavior is perhaps also explained by the demographic - young people might interact on social media more readily - however, our dataset includes no information which would allow us to study this further.\n",
    "\n",
    "\"Funko\" is another business in the same branch. However, it has been around for a lot longer and is the main producer of such figurines.\n",
    "\n",
    "Thus we can see that having a visually appealing product is a big predictor of social media success, independent of several other variables.\n",
    "\n",
    "Another branch that is well represented in the top social media performers are fashion brands. Additionally to the previously exmained factor of visuality, we can extract additional important traits by examining the social media presence of these companies. Many of these companies make occasional posts which seem unrelated to their product, which seems to differentiate them from other companies with less engagement.\n",
    "\n",
    "Among the low performers, the company \"Powerade\" stuck out to us, since it is relatively well known and belongs to the coca-cola company. \n",
    "|              | rank  | n_months |\n",
    "|--------------|-------|----------|\n",
    "| SPRITE       | 99.8  | 64       |\n",
    "| Costa Coffee | 406.4 | 67       |\n",
    "| Schweppes    | 238.5 | 17       |\n",
    "| Coca-Cola    | 113.9 | 92       |\n",
    "| Powerade     | 24.9  | 92       |\n",
    "\n",
    "Even though coca-cola is an extremely popular brand, only the account of Costa Coffe is somewhat successful on instagram. This is most likely due to their more familiar approach to social media. Their other accounts are mostly focused on design rather than relatability, which seems to hinder engagement. Nonetheless, the Coca-Cola share price does not reflect a slowed growth in the age of social media. Thus there is room for a company to thrive without overperforming on social media, however this is most likely due to Coca-Colas previous popularity.\n",
    "\n",
    "\n",
    "\n",
    "#### 2. K-Means Model\n",
    "How it works:\n",
    "We have chosen to consider our engineered features on the year of 2023 since we also want to consider our data on a smaller timeframe, without the effects of COVID.\n",
    "Since our baseline model is based on monthly considerations, we decided to consider another methodology as we only consider at most 12 months.\n",
    "Number of clusters has been chosen via Silhouette Scoring. We decided to label a brand an outlier if the distance to the in-class median exceeds by a factor k * in-class standard deviation.\n",
    "Choosing k = 2 has showed itself to reliably yield an outlier rate of about 8%, changing k +-20% results in 12%, 6% respectively. k = 2 was the smallest such choice for which we got a good improvement without being too restrictive.    As we wanted to better understand which of our engineered features were a good indicator of an outlier in this context we decided to train a surrogate decision tree on our predictions.\n",
    "\n",
    "Reasons (standalone):\n",
    "- Easily applicable and explainable\n",
    "- Unsupervised\n",
    "- detects outliers, while taking into account the variety of different companies\n",
    "\n",
    "Why we chose this model over other models:\n",
    "- Other unsupervised analysis methods are more technical\n",
    "\n",
    "results:\n",
    "\n",
    "The above method yields a list of 35 outliers including many luxury brands like Dior, Louis Vuitton, general apparel retailers like Temu or Uniqlo and several others including Finding Unicorn. Analysing these by the baseline engagement rate model yields a variety of results, indicating that we extracted a more complex set of outliers by this method. To interpret these, we employ a surrogate model, which will express the decision boundaries between outliers and regular points.\n",
    "\n",
    "##### 2.1 Surrogate Model\n",
    "\n",
    "In \"surrogate_final.png\" can see a plot of our decision tree. Blue hues indicate outliers. \n"
   ]
  },
  {
   "cell_type": "code",
   "execution_count": 9,
   "metadata": {},
   "outputs": [
    {
     "data": {
      "image/png": "[encoded data removed]",
      "text/plain": [
       "<IPython.core.display.Image object>"
      ]
     },
     "execution_count": 9,
     "metadata": {},
     "output_type": "execute_result"
    }
   ],
   "source": [
    "from IPython.display import Image\n",
    "Image(\"surrogate_final.png\")"
   ]
  },
  {
   "cell_type": "markdown",
   "metadata": {},
   "source": [
    "![title](surrogate_final.png)"
   ]
  },
  {
   "cell_type": "markdown",
   "metadata": {},
   "source": [
    "Having done so we have found that large values of growth_per_post and per_post_aquisition are a good indicator of an outlier in about 96.31% of outlier predictions based on knn. Thus large values of these featurs are the most expressive from our engineered columns when it comes to detecting outliers in the knn sense defiined above (after normalization)."
   ]
  },
  {
   "cell_type": "markdown",
   "metadata": {},
   "source": [
    "##### 2.2 Shapley Values\n",
    "\n",
    "To gain insights on how our model predicts the outliers of our dataset we use shapley values to plot the metrics having the most influence on the prediction of our model. This method helps us in also choosing metrics that explain our model the most but especilly which features have an influence on the final outlier prediction.\n",
    "![title](output.png)\n"
   ]
  },
  {
   "cell_type": "markdown",
   "metadata": {},
   "source": [
    "\n",
    "\n",
    "#### 2.3. IsolationForest\n",
    "\n",
    "We use an IsolationForest to check if the metrics we obtained to characterize our anomalies in the dataset are in fact meaningful and useful. We use this method for its ease of computation in big datasets, for it not needing normalization and it's robustness to data contamination, making it a great choice to plot our anomaly metrics over time. We also don't try to optimize the parameters as this model serves as a sanity check. We can immediately see that the model struggles to fit the anomalies at the beginning of the time series, but fits them well at the end. This is due to the model getting more contextual data with time and the metrics getting better. We see that our metrics catch a lot of the anomaly dynamics.\n",
    "\n",
    "![title](IsolForest1.png)\n",
    "![title](IsolForest2.png)\n",
    "![title](IsolForest3.png)"
   ]
  },
  {
   "cell_type": "markdown",
   "metadata": {},
   "source": [
    "\n",
    "## Model enhancement\n",
    "To further enhance our models we have come up with these action plans:\n",
    "Consider alternative data:\n",
    "We expect the social media metrics we created to correlate with financial company performance in some way, especially in specific sectors\n",
    "Brand perception is a key marketing metric which we did not have access to, we expect high correlation as well.\n",
    "Further analyse created metrics:\n",
    "The framework we applied may very well be used to use different outlier detection algorithms or surrogate methods to get a good insight into our created metrics\n"
   ]
  },
  {
   "cell_type": "markdown",
   "metadata": {},
   "source": [
    "## 3. Actionable Insights\n",
    "\n",
    "### 3.1 Understanding Social Media\n",
    "\n",
    "Social media performance helps us understand how companies interact with their customers online. High-performing companies on social media often have engaging content and a strong connection with their audience. On the other hand, companies that do not perform well might need to improve their social media strategies.\n",
    "\n",
    "### 3.2 Actionable Insights\n",
    "\n",
    "**Finding Unicorn**\n",
    "\n",
    "High Engagement: Finding Unicorn is a company that makes art toys. These toys are very visually appealing, which helps them get a lot of attention on social media.\n",
    "\n",
    "Brand Image: They have a friendly and creative image that attracts many people on platforms like Instagram.\n",
    "\n",
    "What to Do: Companies should focus on making their social media posts more attractive and engaging. They should also work on creating a unique and likable brand image.\n",
    "\n",
    "**Funko**\n",
    "\n",
    "Established Brand: Funko has been around for a long time and is known for its collectible figurines.\n",
    "Product Variety: They regularly release new products, which keeps their audience interested.\n",
    "\n",
    "What to Do: Continue using the brand's history and variety of products to keep people interested. Collaborating with other brands could also attract more followers.\n",
    "\n",
    "**Powerade**\n",
    "\n",
    "Low Engagement: Even though Powerade is a well-known brand, it does not perform as well on social media. This might be because their posts are not as relatable or interesting as they could be.\n",
    "\n",
    "Comparison: Other brands from the same company, like Costa Coffee, do better because they fit more naturally into what people like to see on social media.\n",
    "\n",
    "What to Do: Powerade should try to make their social media content more about lifestyle and include their audience more by using things like user-generated content or interactive campaigns.\n",
    "\n",
    "### 3.3 Recommendations for UBS\n",
    "\n",
    "Investments: Look at investing in companies like Finding Unicorn and Funko, as they show how effectively engaging with customers can lead to better company performance.\n",
    "\n",
    "Risk Management: Help companies like Powerade change their social media approach to improve their online presence and reduce business risks.\n",
    "\n",
    "Strategy Enhancement: Use what we've learned from successful companies to help other businesses improve their social media strategies. This can help them attract more customers and compete better in their markets.\n",
    "\n",
    "\n",
    "\n",
    "\n",
    "\n"
   ]
  }
 ],
 "metadata": {
  "kernelspec": {
   "display_name": "datathon_env",
   "language": "python",
   "name": "python3"
  },
  "language_info": {
   "codemirror_mode": {
    "name": "ipython",
    "version": 3
   },
   "file_extension": ".py",
   "mimetype": "text/x-python",
   "name": "python",
   "nbconvert_exporter": "python",
   "pygments_lexer": "ipython3",
   "version": "3.11.9"
  }
 },
 "nbformat": 4,
 "nbformat_minor": 2
}
