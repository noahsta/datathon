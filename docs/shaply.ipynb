{
 "cells": [
  {
   "cell_type": "markdown",
   "metadata": {},
   "source": [
    "\n",
    "##### 2.2 Shapley Values\n",
    "How it works:\n",
    "Up to this time, we mainly concentrated on the outliers and not on the actual clusters itself. To analyse what the different clusters stand for, we can investigate the corresponding shapley values. The \n",
    "\n",
    "reasons for choosing this model:\n",
    "- Interpretability\n",
    "- further analytics about extracted features\n",
    "- analysis of regular/non-outlier datapoints\n",
    "\n",
    "results:\n"
   ]
  },
  {
   "cell_type": "code",
   "execution_count": null,
   "metadata": {},
   "outputs": [],
   "source": [
    "from IPython.display import Image\n",
    "plot1 = Image(\"surrogate_final.png\")"
   ]
  }
 ],
 "metadata": {
  "kernelspec": {
   "display_name": "dt",
   "language": "python",
   "name": "python3"
  },
  "language_info": {
   "name": "python",
   "version": "3.12.3"
  }
 },
 "nbformat": 4,
 "nbformat_minor": 2
}
