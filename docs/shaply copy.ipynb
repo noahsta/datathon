{
 "cells": [
  {
   "cell_type": "markdown",
   "metadata": {},
   "source": [
    "### Exploratory Data Analysis\n",
    "\n",
    "In a following step, we really tried to understand how our data is structured and what it reveals about the real world. For this, we \n",
    "\n",
    "- first needed to generate mappings between compset_group, compset, business_entity name etc...\n",
    "\n",
    "After, we could\n",
    "- compare industries to the whole market\n",
    "- compare compsets within compset_groups\n",
    "- compare companies within compset\n",
    "\n",
    "#### Industries and Sub-Industries\n",
    "\n",
    "First, we made sure we understood what industries we are working with. We iterated over the csv file and found the following (shortened) hierarchical structure:"
   ]
  },
  {
   "cell_type": "code",
   "execution_count": 1,
   "metadata": {},
   "outputs": [],
   "source": [
    "from IPython.display import Image\n",
    "plot1 = Image(\"img1.png\")\n",
    "plot2 = Image(\"img2.png\")\n",
    "plot3 = Image(\"img3.png\")"
   ]
  },
  {
   "cell_type": "code",
   "execution_count": null,
   "metadata": {},
   "outputs": [],
   "source": [
    "# Code showing some hierarchical structure for industries. Here, we could maybe make some nice tree plots or so that \"haut sie vom hocker\"\n",
    "\n",
    "import json\n",
    "\n",
    "# Map from compset_group -> compset\n",
    "map_path = '../out/compset_group_to_compset_map.json'\n",
    "with open(map_path, 'r') as f:\n",
    "    map_data = json.load(f)\n",
    "\n",
    "counter = 0  # Limit the printing\n",
    "for key, value in map_data.items():\n",
    "    print(key)\n",
    "    print(value)\n",
    "    print()  # Add an empty line after each key's values\n",
    "    counter += 1  # Increment the counter\n",
    "    if counter == 3:  # Check if we've printed 3 key-value pairs\n",
    "        break  # If yes, break out of the loop\n"
   ]
  },
  {
   "cell_type": "markdown",
   "metadata": {},
   "source": [
    "### Getting a feel for the market\n",
    "\n",
    "Next, we made sure we understood broad trends between industries. Through some basic plots filtering by the different industries, we detected a lot of variability both within and between the different types of companies. What's more, the data columns provided to us (\"followers\", \"picture\" etc.) doesn't exhibit any immediate room for conclusions. Therefore we decided to engineer a series of features, that can make analysis more graspable."
   ]
  },
  {
   "cell_type": "markdown",
   "metadata": {},
   "source": [
    "##############################################"
   ]
  },
  {
   "cell_type": "markdown",
   "metadata": {},
   "source": [
    "### iv. Feature Exploration\n",
    "\n",
    "Among our features, we consider engagement rate to be one of the most useful and simple. That's why we look at it's distribution for different industries.\n",
    "![title](img1.png)\n",
    "\n",
    "Analogous to the simple features, there is great variability between the different industries. We can already see trends that industries such as Clothing (apparel retail, sports clothing) and luxury goods achieve high engagement on social media platform. In our later analysis we hope to identify the features which predict such phenomena.\n",
    "\n",
    "Since all our data is time-based, we decided to look at data of one interesting category (apparel retail) over time. Specifically, we are interested in trends concerning virality.\n",
    "![title](img2.png)\n",
    "\n",
    "Eventhough we can see some general peaks, where there seems to be more total engagement with the industry, there is still a lot of variability between the different companies. This will inform us about any sudden bursts of growth in the social media presence of the industry\n",
    "\n",
    "Looking at one specific company (the chinese retailer Shein) and the development of it's absolute growth. It's a new company living of online trade and delivery, which indicates that social media is crucial in the business model of Shein.\n",
    "![title](img3.png)\n",
    "\n",
    "We can see that during the time of the coronavirus pandemic, there was a huge spike not only in users but also growth. It seems that we can extract such tangible statements from the study of single companies, while the size of the whole dataset is very overwhelming. Therefore the majority of our following models are devoted to the study of outliers and extraordinary company profiles.\n"
   ]
  },
  {
   "cell_type": "markdown",
   "metadata": {},
   "source": [
    "\n",
    "The above method yields a list of 35 outliers including many luxury brands like Dior, Louis Vuitton, general apparel retailers like Temu or Uniqlo and several others including Finding Unicorn. Analysing these by the baseline engagement rate model yields a variety of results, indicating that we extracted a more complex set of outliers by this method. To interpret these, we employ a surrogate model, which will express the decision boundaries between outliers and regular points."
   ]
  }
 ],
 "metadata": {
  "kernelspec": {
   "display_name": "dt",
   "language": "python",
   "name": "python3"
  },
  "language_info": {
   "codemirror_mode": {
    "name": "ipython",
    "version": 3
   },
   "file_extension": ".py",
   "mimetype": "text/x-python",
   "name": "python",
   "nbconvert_exporter": "python",
   "pygments_lexer": "ipython3",
   "version": "3.12.3"
  }
 },
 "nbformat": 4,
 "nbformat_minor": 2
}
