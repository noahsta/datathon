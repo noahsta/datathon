{
 "cells": [
  {
   "cell_type": "markdown",
   "metadata": {},
   "source": [
    "# UBS Challange"
   ]
  },
  {
   "cell_type": "code",
   "execution_count": 1,
   "metadata": {},
   "outputs": [
    {
     "name": "stdout",
     "output_type": "stream",
     "text": [
      "c:\\Users\\Usee\\Documents\\Datathon_24\\datathon\\src\\..\\data\n"
     ]
    }
   ],
   "source": [
    "import pandas as pd\n",
    "import numpy as np\n",
    "import os\n",
    "\n",
    "path = os.path.join(os.path.join(os.getcwd(), os.pardir),\"data\")\n",
    "print(path)"
   ]
  },
  {
   "cell_type": "code",
   "execution_count": 2,
   "metadata": {},
   "outputs": [
    {
     "name": "stdout",
     "output_type": "stream",
     "text": [
      "          followers       pictures         videos      comments         likes\n",
      "count  5.792580e+05  695803.000000  684349.000000  6.953430e+05  6.959770e+05\n",
      "mean   1.342432e+07     344.272540      61.244426  3.043246e+04  2.163189e+06\n",
      "std    1.106975e+08    2777.396873     564.468480  2.766459e+05  1.803193e+07\n",
      "min    0.000000e+00       0.000000       0.000000  0.000000e+00  0.000000e+00\n",
      "25%    3.013372e+05      19.000000       2.000000  3.710000e+02  1.727700e+04\n",
      "50%    1.104144e+06      44.000000       7.000000  1.435000e+03  9.318400e+04\n",
      "75%    4.479325e+06     122.000000      20.000000  5.872000e+03  4.577470e+05\n",
      "max    3.502565e+09  141746.000000   35905.000000  1.732046e+07  7.120711e+08\n"
     ]
    }
   ],
   "source": [
    "file = os.path.join(path, \"skylab_instagram_datathon_dataset.csv\")\n",
    "data = pd.read_csv(file, delimiter=\";\")\n",
    "print(data.describe())"
   ]
  },
  {
   "cell_type": "markdown",
   "metadata": {},
   "source": [
    "# Explore Companies"
   ]
  },
  {
   "cell_type": "code",
   "execution_count": 67,
   "metadata": {},
   "outputs": [
    {
     "name": "stdout",
     "output_type": "stream",
     "text": [
      "number companies:  54\n"
     ]
    },
    {
     "data": {
      "image/png": "[encoded data removed]",
      "text/plain": [
       "<Figure size 640x480 with 1 Axes>"
      ]
     },
     "metadata": {},
     "output_type": "display_data"
    },
    {
     "name": "stdout",
     "output_type": "stream",
     "text": [
      "                                     entries   na\n",
      "Global Luxury Analysts Interest List   29233  NaN\n",
      "Beauty & Boutique                      44266  NaN\n",
      "Luxury & Premium & Mainstream          64541  NaN\n",
      "Apparel Retail                         69341  NaN\n",
      "US Softlines Analyst Interest List    113744  NaN\n"
     ]
    }
   ],
   "source": [
    "import matplotlib.pyplot as plt\n",
    "\n",
    "def count_entries(data: pd.DataFrame, column: str):\n",
    "    cats = list(set(list(data[\"compset\"])))\n",
    "    print(\"number companies: \", len(cats))\n",
    "\n",
    "    table = pd.DataFrame(columns=[\"entries\", \"na\"], index=cats)\n",
    "    for company in cats:\n",
    "        data_company = data[data[\"compset\"] == company]\n",
    "        table.loc[company, \"entries\"] = len(data_company)\n",
    "    table = table.sort_values(by=[\"entries\"])\n",
    "    return table\n",
    "\n",
    "table = count_entries(data=data, column=\"compset\")\n",
    "plt.plot(table[\"entries\"])\n",
    "plt.show()\n",
    "print(table[-5:])"
   ]
  },
  {
   "cell_type": "code",
   "execution_count": 4,
   "metadata": {},
   "outputs": [
    {
     "name": "stdout",
     "output_type": "stream",
     "text": [
      "time\n",
      "2015    4.352819e+06\n",
      "2016    8.192623e+06\n",
      "2017    1.173550e+07\n",
      "2018    1.491700e+07\n",
      "2019    1.874780e+07\n",
      "2020    2.167687e+07\n",
      "2021    2.375165e+07\n",
      "2022    2.632273e+07\n",
      "2023    2.881174e+07\n",
      "Name: followers, dtype: float64\n"
     ]
    },
    {
     "name": "stderr",
     "output_type": "stream",
     "text": [
      "C:\\Users\\Usee\\AppData\\Local\\Temp\\ipykernel_16820\\291521671.py:6: SettingWithCopyWarning: \n",
      "A value is trying to be set on a copy of a slice from a DataFrame.\n",
      "Try using .loc[row_indexer,col_indexer] = value instead\n",
      "\n",
      "See the caveats in the documentation: https://pandas.pydata.org/pandas-docs/stable/user_guide/indexing.html#returning-a-view-versus-a-copy\n",
      "  filtered_df[\"time\"] = pd.to_datetime(filtered_df[\"period_end_date\"]).dt.year\n"
     ]
    }
   ],
   "source": [
    "def calculate_yearly_means(df, col, category_column, category_value, period: str=\"yearly\"):\n",
    "    filtered_df = df[df[category_column] == category_value]\n",
    "    \n",
    "    # Convert the index to datetime if it's not already\n",
    "    if period == \"yearly\":\n",
    "        filtered_df[\"time\"] = pd.to_datetime(filtered_df[\"period_end_date\"]).dt.year\n",
    "    elif period == \"montly\":\n",
    "        filtered_df[\"time\"] = pd.to_datetime(filtered_df[\"period_end_date\"]).dt.month\n",
    "\n",
    "    yearly_means = filtered_df[col].groupby(filtered_df[\"time\"]).mean()\n",
    "    \n",
    "    return yearly_means\n",
    "\n",
    "print(calculate_yearly_means(data, \"followers\", \"compset\", \"Soft Luxury\", period=\"yearly\"))"
   ]
  },
  {
   "cell_type": "code",
   "execution_count": 23,
   "metadata": {},
   "outputs": [
    {
     "name": "stderr",
     "output_type": "stream",
     "text": [
      "C:\\Users\\Usee\\AppData\\Local\\Temp\\ipykernel_16820\\2059905629.py:17: RuntimeWarning: Mean of empty slice\n",
      "  table.loc[cat, col] = np.nanmean(df_cat[col])\n"
     ]
    },
    {
     "name": "stdout",
     "output_type": "stream",
     "text": [
      "                                   pictures      videos      comments  \\\n",
      "Capri Holdings                    35.812937    7.592657  10619.134615   \n",
      "Restaurant Brands International  442.432692   90.240385  22554.423077   \n",
      "Pepsi                               56.5625   43.322115   7526.163462   \n",
      "Monster Energy                    14.461538   36.538462   6581.134615   \n",
      "Aritzia                           29.634615    5.038462   4381.403846   \n",
      "...                                     ...         ...           ...   \n",
      "Yum! Brands                      787.826923  236.980769  44303.346154   \n",
      "Roborock;Xiaomi                   39.057692    9.884615    481.134615   \n",
      "Marisa Lojas SA                        44.5    6.980769   9208.730769   \n",
      "Mizuno Corp                          329.25   57.365385   5211.961538   \n",
      "Klean Kanteen Inc                169.384615    6.615385   4151.442308   \n",
      "\n",
      "                                          likes        followers  \n",
      "Capri Holdings                   2269962.853147  16865954.587413  \n",
      "Restaurant Brands International   449791.048077   4293331.586538  \n",
      "Pepsi                             114594.711538   1768567.206731  \n",
      "Monster Energy                   1455412.923077   6716626.134615  \n",
      "Aritzia                           282849.076923    964669.307692  \n",
      "...                                         ...              ...  \n",
      "Yum! Brands                       474648.884615   6491520.942308  \n",
      "Roborock;Xiaomi                     5298.942308              NaN  \n",
      "Marisa Lojas SA                   308358.076923   3645239.365385  \n",
      "Mizuno Corp                           215525.75   1714636.269231  \n",
      "Klean Kanteen Inc                  31304.865385    254153.480769  \n",
      "\n",
      "[424 rows x 5 columns]\n"
     ]
    }
   ],
   "source": [
    "def average_table(df, category_column, interesting_period, period: str=\"yearly\"):\n",
    "    cols = [\"pictures\", \"videos\", \"comments\", \"likes\", \"followers\"] \n",
    "    cats = df[category_column].unique()\n",
    "    table = pd.DataFrame(columns=cols, index=cats)\n",
    "    \n",
    "    if period == \"yearly\":\n",
    "        df[\"time\"] = pd.to_datetime(df[\"period_end_date\"]).dt.year\n",
    "    elif period == \"monthly\":\n",
    "        df[\"time\"] = pd.to_datetime(df[\"period_end_date\"]).dt.month\n",
    "\n",
    "    df = df[df[\"time\"] == interesting_period]\n",
    "\n",
    "    for cat in cats:\n",
    "        df_cat = df[df[category_column] == cat]\n",
    "        for col in cols:\n",
    "\n",
    "            table.loc[cat, col] = np.nanmean(df_cat[col])\n",
    "     \n",
    "    return table\n",
    "\n",
    "table = average_table(data, \"legal_entity_name\", 2020)\n",
    "print(table)"
   ]
  },
  {
   "cell_type": "code",
   "execution_count": 24,
   "metadata": {},
   "outputs": [
    {
     "name": "stdout",
     "output_type": "stream",
     "text": [
      "pictures      6\n",
      "videos        6\n",
      "comments      6\n",
      "likes         6\n",
      "followers    19\n",
      "dtype: int64\n"
     ]
    }
   ],
   "source": [
    "print(table.isna().sum())  #fields with no non-nan values during the time period\n",
    "table = table.dropna()"
   ]
  },
  {
   "cell_type": "code",
   "execution_count": 25,
   "metadata": {},
   "outputs": [
    {
     "data": {
      "text/html": [
       "<div>\n",
       "<style scoped>\n",
       "    .dataframe tbody tr th:only-of-type {\n",
       "        vertical-align: middle;\n",
       "    }\n",
       "\n",
       "    .dataframe tbody tr th {\n",
       "        vertical-align: top;\n",
       "    }\n",
       "\n",
       "    .dataframe thead th {\n",
       "        text-align: right;\n",
       "    }\n",
       "</style>\n",
       "<table border=\"1\" class=\"dataframe\">\n",
       "  <thead>\n",
       "    <tr style=\"text-align: right;\">\n",
       "      <th></th>\n",
       "      <th>pictures</th>\n",
       "      <th>videos</th>\n",
       "      <th>comments</th>\n",
       "      <th>likes</th>\n",
       "      <th>followers</th>\n",
       "    </tr>\n",
       "  </thead>\n",
       "  <tbody>\n",
       "    <tr>\n",
       "      <th>Capri Holdings</th>\n",
       "      <td>35.812937</td>\n",
       "      <td>7.592657</td>\n",
       "      <td>10619.134615</td>\n",
       "      <td>2269962.853147</td>\n",
       "      <td>16865954.587413</td>\n",
       "    </tr>\n",
       "    <tr>\n",
       "      <th>Restaurant Brands International</th>\n",
       "      <td>442.432692</td>\n",
       "      <td>90.240385</td>\n",
       "      <td>22554.423077</td>\n",
       "      <td>449791.048077</td>\n",
       "      <td>4293331.586538</td>\n",
       "    </tr>\n",
       "    <tr>\n",
       "      <th>Pepsi</th>\n",
       "      <td>56.5625</td>\n",
       "      <td>43.322115</td>\n",
       "      <td>7526.163462</td>\n",
       "      <td>114594.711538</td>\n",
       "      <td>1768567.206731</td>\n",
       "    </tr>\n",
       "    <tr>\n",
       "      <th>Monster Energy</th>\n",
       "      <td>14.461538</td>\n",
       "      <td>36.538462</td>\n",
       "      <td>6581.134615</td>\n",
       "      <td>1455412.923077</td>\n",
       "      <td>6716626.134615</td>\n",
       "    </tr>\n",
       "    <tr>\n",
       "      <th>Aritzia</th>\n",
       "      <td>29.634615</td>\n",
       "      <td>5.038462</td>\n",
       "      <td>4381.403846</td>\n",
       "      <td>282849.076923</td>\n",
       "      <td>964669.307692</td>\n",
       "    </tr>\n",
       "    <tr>\n",
       "      <th>...</th>\n",
       "      <td>...</td>\n",
       "      <td>...</td>\n",
       "      <td>...</td>\n",
       "      <td>...</td>\n",
       "      <td>...</td>\n",
       "    </tr>\n",
       "    <tr>\n",
       "      <th>Carmen Steffens</th>\n",
       "      <td>40.461538</td>\n",
       "      <td>8.211538</td>\n",
       "      <td>1618.076923</td>\n",
       "      <td>123783.269231</td>\n",
       "      <td>2437706.788462</td>\n",
       "    </tr>\n",
       "    <tr>\n",
       "      <th>Yum! Brands</th>\n",
       "      <td>787.826923</td>\n",
       "      <td>236.980769</td>\n",
       "      <td>44303.346154</td>\n",
       "      <td>474648.884615</td>\n",
       "      <td>6491520.942308</td>\n",
       "    </tr>\n",
       "    <tr>\n",
       "      <th>Marisa Lojas SA</th>\n",
       "      <td>44.5</td>\n",
       "      <td>6.980769</td>\n",
       "      <td>9208.730769</td>\n",
       "      <td>308358.076923</td>\n",
       "      <td>3645239.365385</td>\n",
       "    </tr>\n",
       "    <tr>\n",
       "      <th>Mizuno Corp</th>\n",
       "      <td>329.25</td>\n",
       "      <td>57.365385</td>\n",
       "      <td>5211.961538</td>\n",
       "      <td>215525.75</td>\n",
       "      <td>1714636.269231</td>\n",
       "    </tr>\n",
       "    <tr>\n",
       "      <th>Klean Kanteen Inc</th>\n",
       "      <td>169.384615</td>\n",
       "      <td>6.615385</td>\n",
       "      <td>4151.442308</td>\n",
       "      <td>31304.865385</td>\n",
       "      <td>254153.480769</td>\n",
       "    </tr>\n",
       "  </tbody>\n",
       "</table>\n",
       "<p>405 rows × 5 columns</p>\n",
       "</div>"
      ],
      "text/plain": [
       "                                   pictures      videos      comments  \\\n",
       "Capri Holdings                    35.812937    7.592657  10619.134615   \n",
       "Restaurant Brands International  442.432692   90.240385  22554.423077   \n",
       "Pepsi                               56.5625   43.322115   7526.163462   \n",
       "Monster Energy                    14.461538   36.538462   6581.134615   \n",
       "Aritzia                           29.634615    5.038462   4381.403846   \n",
       "...                                     ...         ...           ...   \n",
       "Carmen Steffens                   40.461538    8.211538   1618.076923   \n",
       "Yum! Brands                      787.826923  236.980769  44303.346154   \n",
       "Marisa Lojas SA                        44.5    6.980769   9208.730769   \n",
       "Mizuno Corp                          329.25   57.365385   5211.961538   \n",
       "Klean Kanteen Inc                169.384615    6.615385   4151.442308   \n",
       "\n",
       "                                          likes        followers  \n",
       "Capri Holdings                   2269962.853147  16865954.587413  \n",
       "Restaurant Brands International   449791.048077   4293331.586538  \n",
       "Pepsi                             114594.711538   1768567.206731  \n",
       "Monster Energy                   1455412.923077   6716626.134615  \n",
       "Aritzia                           282849.076923    964669.307692  \n",
       "...                                         ...              ...  \n",
       "Carmen Steffens                   123783.269231   2437706.788462  \n",
       "Yum! Brands                       474648.884615   6491520.942308  \n",
       "Marisa Lojas SA                   308358.076923   3645239.365385  \n",
       "Mizuno Corp                           215525.75   1714636.269231  \n",
       "Klean Kanteen Inc                  31304.865385    254153.480769  \n",
       "\n",
       "[405 rows x 5 columns]"
      ]
     },
     "execution_count": 25,
     "metadata": {},
     "output_type": "execute_result"
    }
   ],
   "source": [
    "table"
   ]
  },
  {
   "cell_type": "code",
   "execution_count": 26,
   "metadata": {},
   "outputs": [
    {
     "name": "stderr",
     "output_type": "stream",
     "text": [
      "c:\\Users\\Usee\\anaconda3\\envs\\dt\\Lib\\site-packages\\sklearn\\cluster\\_kmeans.py:1436: UserWarning: KMeans is known to have a memory leak on Windows with MKL, when there are less chunks than available threads. You can avoid it by setting the environment variable OMP_NUM_THREADS=2.\n",
      "  warnings.warn(\n",
      "c:\\Users\\Usee\\anaconda3\\envs\\dt\\Lib\\site-packages\\sklearn\\cluster\\_kmeans.py:1436: UserWarning: KMeans is known to have a memory leak on Windows with MKL, when there are less chunks than available threads. You can avoid it by setting the environment variable OMP_NUM_THREADS=2.\n",
      "  warnings.warn(\n",
      "c:\\Users\\Usee\\anaconda3\\envs\\dt\\Lib\\site-packages\\sklearn\\cluster\\_kmeans.py:1436: UserWarning: KMeans is known to have a memory leak on Windows with MKL, when there are less chunks than available threads. You can avoid it by setting the environment variable OMP_NUM_THREADS=2.\n",
      "  warnings.warn(\n",
      "c:\\Users\\Usee\\anaconda3\\envs\\dt\\Lib\\site-packages\\sklearn\\cluster\\_kmeans.py:1436: UserWarning: KMeans is known to have a memory leak on Windows with MKL, when there are less chunks than available threads. You can avoid it by setting the environment variable OMP_NUM_THREADS=2.\n",
      "  warnings.warn(\n",
      "c:\\Users\\Usee\\anaconda3\\envs\\dt\\Lib\\site-packages\\sklearn\\cluster\\_kmeans.py:1436: UserWarning: KMeans is known to have a memory leak on Windows with MKL, when there are less chunks than available threads. You can avoid it by setting the environment variable OMP_NUM_THREADS=2.\n",
      "  warnings.warn(\n",
      "c:\\Users\\Usee\\anaconda3\\envs\\dt\\Lib\\site-packages\\sklearn\\cluster\\_kmeans.py:1436: UserWarning: KMeans is known to have a memory leak on Windows with MKL, when there are less chunks than available threads. You can avoid it by setting the environment variable OMP_NUM_THREADS=2.\n",
      "  warnings.warn(\n",
      "c:\\Users\\Usee\\anaconda3\\envs\\dt\\Lib\\site-packages\\sklearn\\cluster\\_kmeans.py:1436: UserWarning: KMeans is known to have a memory leak on Windows with MKL, when there are less chunks than available threads. You can avoid it by setting the environment variable OMP_NUM_THREADS=2.\n",
      "  warnings.warn(\n",
      "c:\\Users\\Usee\\anaconda3\\envs\\dt\\Lib\\site-packages\\sklearn\\cluster\\_kmeans.py:1436: UserWarning: KMeans is known to have a memory leak on Windows with MKL, when there are less chunks than available threads. You can avoid it by setting the environment variable OMP_NUM_THREADS=2.\n",
      "  warnings.warn(\n",
      "c:\\Users\\Usee\\anaconda3\\envs\\dt\\Lib\\site-packages\\sklearn\\cluster\\_kmeans.py:1436: UserWarning: KMeans is known to have a memory leak on Windows with MKL, when there are less chunks than available threads. You can avoid it by setting the environment variable OMP_NUM_THREADS=2.\n",
      "  warnings.warn(\n"
     ]
    },
    {
     "data": {
      "image/png": "[encoded data removed]",
      "text/plain": [
       "<Figure size 640x480 with 1 Axes>"
      ]
     },
     "metadata": {},
     "output_type": "display_data"
    }
   ],
   "source": [
    "from sklearn.metrics import silhouette_score\n",
    "from sklearn.cluster import KMeans\n",
    "\n",
    "def kmeans_silhouette_scores(df):\n",
    "    silhouette_scores = []\n",
    "\n",
    "    # Example using the same dataset as above\n",
    "    for i in range(2, 11):  # Silhouette score cannot be computed with only one cluster\n",
    "        kmeans = KMeans(n_clusters=i, init='k-means++', max_iter=300, n_init=10, random_state=0)\n",
    "        kmeans.fit(df)\n",
    "        score = silhouette_score(df, kmeans.labels_)\n",
    "        silhouette_scores.append(score)\n",
    "    return silhouette_scores\n",
    "\n",
    "silhouette_scores = kmeans_silhouette_scores(table)\n",
    "# Plotting the results\n",
    "plt.plot(range(2, 11), silhouette_scores)\n",
    "plt.title('Silhouette Score Method')\n",
    "plt.xlabel('Number of clusters')\n",
    "plt.ylabel('Silhouette Score')\n",
    "plt.show()"
   ]
  },
  {
   "cell_type": "markdown",
   "metadata": {},
   "source": [
    "## K means\n",
    "\n",
    "In the silhouette score plot, one can see how well different amounts of clusters fit our data. 6 seems like a good fit since it looks like a local minimum after a steep drop. This minimizes the mean, while keeping the variance modest."
   ]
  },
  {
   "cell_type": "code",
   "execution_count": 66,
   "metadata": {},
   "outputs": [
    {
     "name": "stderr",
     "output_type": "stream",
     "text": [
      "c:\\Users\\Usee\\anaconda3\\envs\\dt\\Lib\\site-packages\\sklearn\\cluster\\_kmeans.py:1412: FutureWarning: The default value of `n_init` will change from 10 to 'auto' in 1.4. Set the value of `n_init` explicitly to suppress the warning\n",
      "  super()._check_params_vs_input(X, default_n_init=10)\n",
      "c:\\Users\\Usee\\anaconda3\\envs\\dt\\Lib\\site-packages\\sklearn\\cluster\\_kmeans.py:1436: UserWarning: KMeans is known to have a memory leak on Windows with MKL, when there are less chunks than available threads. You can avoid it by setting the environment variable OMP_NUM_THREADS=2.\n",
      "  warnings.warn(\n"
     ]
    },
    {
     "name": "stdout",
     "output_type": "stream",
     "text": [
      "profile: pictures          120.230769\n",
      "videos            109.730769\n",
      "comments        94122.673077\n",
      "likes        19975414.365385\n",
      "followers    81374548.442308\n",
      "label                      0\n",
      "dist          9668448.993881\n",
      "Name: Aga Marvel, dtype: object\n",
      "0\n",
      "cluster: pictures         77.342864\n",
      "videos           13.133149\n",
      "comments       3216.676073\n",
      "likes         99047.966307\n",
      "followers    701096.510542\n",
      "label             5.000000\n",
      "dist         791290.313519\n",
      "Name: 0, dtype: float64\n",
      "profile: pictures          166.580769\n",
      "videos             28.288462\n",
      "comments        19574.984615\n",
      "likes             3845445.75\n",
      "followers    33101198.326923\n",
      "label                      5\n",
      "dist         11255572.379875\n",
      "Name: Chanel, dtype: object\n",
      "5\n",
      "cluster: pictures     2.651575e+02\n",
      "videos       4.685749e+01\n",
      "comments     3.099904e+04\n",
      "likes        1.010670e+06\n",
      "followers    5.715888e+06\n",
      "label        1.884615e+00\n",
      "dist         2.425097e+06\n",
      "Name: 5, dtype: float64\n",
      "profile: pictures          166.346154\n",
      "videos             12.326923\n",
      "comments       391041.019231\n",
      "likes        10364605.461538\n",
      "followers     9536954.326923\n",
      "label                      5\n",
      "dist         12592714.718855\n",
      "Name: Seed Beauty, dtype: object\n",
      "5\n",
      "cluster: pictures     2.651575e+02\n",
      "videos       4.685749e+01\n",
      "comments     3.099904e+04\n",
      "likes        1.010670e+06\n",
      "followers    5.715888e+06\n",
      "label        1.884615e+00\n",
      "dist         2.425097e+06\n",
      "Name: 5, dtype: float64\n",
      "profile: pictures          304.451923\n",
      "videos            118.826923\n",
      "comments        34360.076923\n",
      "likes         2801752.615385\n",
      "followers    68293960.115385\n",
      "label                      0\n",
      "dist         12648196.579338\n",
      "Name: Adidas, dtype: object\n",
      "0\n",
      "cluster: pictures         77.342864\n",
      "videos           13.133149\n",
      "comments       3216.676073\n",
      "likes         99047.966307\n",
      "followers    701096.510542\n",
      "label             5.000000\n",
      "dist         791290.313519\n",
      "Name: 0, dtype: float64\n",
      "profile: pictures         1109.923077\n",
      "videos             72.942308\n",
      "comments       143664.269231\n",
      "likes        26272801.038462\n",
      "followers         26038007.2\n",
      "label                      0\n",
      "dist         13525208.382585\n",
      "Name: Fashion Nova Inc, dtype: object\n",
      "0\n",
      "cluster: pictures         77.342864\n",
      "videos           13.133149\n",
      "comments       3216.676073\n",
      "likes         99047.966307\n",
      "followers    701096.510542\n",
      "label             5.000000\n",
      "dist         791290.313519\n",
      "Name: 0, dtype: float64\n"
     ]
    }
   ],
   "source": [
    "from sklearn.cluster import KMeans\n",
    "\n",
    "def apply_kmeans_clustering(df, num_clusters):\n",
    "    kmeans = KMeans(n_clusters=num_clusters)\n",
    "    kmeans.fit(df)\n",
    "    return df, kmeans\n",
    "\n",
    "def get_outliers(df, model):\n",
    "    df[\"dist\"] = np.min(model.transform(df), axis=1)\n",
    "    df = df.sort_values(by=[\"dist\"])\n",
    "    df[\"label\"] = model.labels_\n",
    "    return df[-5:]\n",
    "\n",
    "table, model = apply_kmeans_clustering(table, num_clusters=6)\n",
    "centers = pd.DataFrame(data=model.cluster_centers_, columns=table.columns)\n",
    "\n",
    "\"\"\" for label in range(1,7):\n",
    "    tabel_with_label = table[model.labels_ == label]\n",
    "    plt.scatter(tabel_with_label[\"videos\"], tabel_with_label[\"pictures\"])\n",
    " \"\"\"\n",
    "outliers_table = get_outliers(table, model)\n",
    "for _, outlier in outliers_table.iterrows():\n",
    "    print(\"profile:\", outlier)\n",
    "    print(\"cluster:\", centers.loc[outlier[\"label\"]])"
   ]
  }
 ],
 "metadata": {
  "kernelspec": {
   "display_name": "dt",
   "language": "python",
   "name": "python3"
  },
  "language_info": {
   "codemirror_mode": {
    "name": "ipython",
    "version": 3
   },
   "file_extension": ".py",
   "mimetype": "text/x-python",
   "name": "python",
   "nbconvert_exporter": "python",
   "pygments_lexer": "ipython3",
   "version": "3.12.3"
  }
 },
 "nbformat": 4,
 "nbformat_minor": 2
}
