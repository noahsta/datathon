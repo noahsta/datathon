{
 "cells": [
  {
   "cell_type": "markdown",
   "metadata": {},
   "source": [
    "# UBS Challange"
   ]
  },
  {
   "cell_type": "code",
   "execution_count": 2,
   "metadata": {},
   "outputs": [
    {
     "name": "stdout",
     "output_type": "stream",
     "text": [
      "c:\\Users\\Usee\\Documents\\Datathon_24\\datathon\\src\\..\\data\n"
     ]
    }
   ],
   "source": [
    "import pandas as pd\n",
    "import numpy as np\n",
    "import os\n",
    "\n",
    "path = os.path.join(os.path.join(os.getcwd(), os.pardir),\"data\")\n",
    "print(path)"
   ]
  },
  {
   "cell_type": "code",
   "execution_count": 3,
   "metadata": {},
   "outputs": [
    {
     "name": "stdout",
     "output_type": "stream",
     "text": [
      "          followers       pictures         videos      comments         likes\n",
      "count  5.792580e+05  695803.000000  684349.000000  6.953430e+05  6.959770e+05\n",
      "mean   1.342432e+07     344.272540      61.244426  3.043246e+04  2.163189e+06\n",
      "std    1.106975e+08    2777.396873     564.468480  2.766459e+05  1.803193e+07\n",
      "min    0.000000e+00       0.000000       0.000000  0.000000e+00  0.000000e+00\n",
      "25%    3.013372e+05      19.000000       2.000000  3.710000e+02  1.727700e+04\n",
      "50%    1.104144e+06      44.000000       7.000000  1.435000e+03  9.318400e+04\n",
      "75%    4.479325e+06     122.000000      20.000000  5.872000e+03  4.577470e+05\n",
      "max    3.502565e+09  141746.000000   35905.000000  1.732046e+07  7.120711e+08\n"
     ]
    }
   ],
   "source": [
    "file = os.path.join(path, \"skylab_instagram_datathon_dataset.csv\")\n",
    "data = pd.read_csv(file, delimiter=\";\")\n",
    "print(data.describe())"
   ]
  },
  {
   "cell_type": "markdown",
   "metadata": {},
   "source": [
    "# Explore Companies"
   ]
  },
  {
   "cell_type": "code",
   "execution_count": 8,
   "metadata": {},
   "outputs": [
    {
     "name": "stdout",
     "output_type": "stream",
     "text": [
      "number companies:  54\n"
     ]
    },
    {
     "data": {
      "image/png": "[encoded data removed]",
      "text/plain": [
       "<Figure size 640x480 with 1 Axes>"
      ]
     },
     "metadata": {},
     "output_type": "display_data"
    },
    {
     "name": "stdout",
     "output_type": "stream",
     "text": [
      "                                     entries   na\n",
      "Global Luxury Analysts Interest List   29233  NaN\n",
      "Beauty & Boutique                      44266  NaN\n",
      "Luxury & Premium & Mainstream          64541  NaN\n",
      "Apparel Retail                         69341  NaN\n",
      "US Softlines Analyst Interest List    113744  NaN\n"
     ]
    }
   ],
   "source": [
    "import matplotlib.pyplot as plt\n",
    "\n",
    "def count_entries(data: pd.DataFrame, column: str):\n",
    "    cats = list(set(list(data[\"compset\"])))\n",
    "    print(\"number companies: \", len(cats))\n",
    "\n",
    "    table = pd.DataFrame(columns=[\"entries\", \"na\"], index=cats)\n",
    "    for company in cats:\n",
    "        data_company = data[data[\"compset\"] == company]\n",
    "        table.loc[company, \"entries\"] = len(data_company)\n",
    "    table = table.sort_values(by=[\"entries\"])\n",
    "    return table\n",
    "\n",
    "table = count_entries(data=data, column=\"compset\")\n",
    "plt.plot(table[\"na\"])\n",
    "plt.show()\n",
    "print(table[-5:])"
   ]
  },
  {
   "cell_type": "code",
   "execution_count": 42,
   "metadata": {},
   "outputs": [
    {
     "name": "stdout",
     "output_type": "stream",
     "text": [
      "time\n",
      "2015    4.352819e+06\n",
      "2016    8.192623e+06\n",
      "2017    1.173550e+07\n",
      "2018    1.491700e+07\n",
      "2019    1.874780e+07\n",
      "2020    2.167687e+07\n",
      "2021    2.375165e+07\n",
      "2022    2.632273e+07\n",
      "2023    2.881174e+07\n",
      "Name: followers, dtype: float64\n"
     ]
    },
    {
     "name": "stderr",
     "output_type": "stream",
     "text": [
      "C:\\Users\\Usee\\AppData\\Local\\Temp\\ipykernel_9540\\291521671.py:6: SettingWithCopyWarning: \n",
      "A value is trying to be set on a copy of a slice from a DataFrame.\n",
      "Try using .loc[row_indexer,col_indexer] = value instead\n",
      "\n",
      "See the caveats in the documentation: https://pandas.pydata.org/pandas-docs/stable/user_guide/indexing.html#returning-a-view-versus-a-copy\n",
      "  filtered_df[\"time\"] = pd.to_datetime(filtered_df[\"period_end_date\"]).dt.year\n"
     ]
    }
   ],
   "source": [
    "def calculate_yearly_means(df, col, category_column, category_value, period: str=\"yearly\"):\n",
    "    filtered_df = df[df[category_column] == category_value]\n",
    "    \n",
    "    # Convert the index to datetime if it's not already\n",
    "    if period == \"yearly\":\n",
    "        filtered_df[\"time\"] = pd.to_datetime(filtered_df[\"period_end_date\"]).dt.year\n",
    "    elif period == \"montly\":\n",
    "        filtered_df[\"time\"] = pd.to_datetime(filtered_df[\"period_end_date\"]).dt.month\n",
    "\n",
    "    yearly_means = filtered_df[col].groupby(filtered_df[\"time\"]).mean()\n",
    "    \n",
    "    return yearly_means\n",
    "\n",
    "print(calculate_yearly_means(data, \"followers\", \"compset\", \"Soft Luxury\", period=\"yearly\"))"
   ]
  },
  {
   "cell_type": "code",
   "execution_count": 41,
   "metadata": {},
   "outputs": [
    {
     "name": "stdout",
     "output_type": "stream",
     "text": [
      "                                          pictures        videos  \\\n",
      "Soft Luxury                             100.898927     21.023256   \n",
      "Luxury & Premium & Mainstream           147.835342     23.605246   \n",
      "US Softlines Analyst Interest List      655.810912     86.495847   \n",
      "Global Luxury Analysts Interest List    102.779965     21.369565   \n",
      "Coffee                                  542.046154    106.223077   \n",
      "Restaurants                             406.061538     84.597115   \n",
      "Beverages                               137.266554     87.527181   \n",
      "Sports drinks                            61.721154     22.365385   \n",
      "Energy drinks                           393.217949    400.089744   \n",
      "Fast Fashion                            407.869838      31.77189   \n",
      "Omnichannel Apparel Retail              424.611925     41.351833   \n",
      "Apparel Retail                          281.098525     26.166294   \n",
      "US Department Store                     169.124324     26.857658   \n",
      "Latam Apparel Retail                    130.759615     18.596154   \n",
      "Food Products                            36.907705      7.990582   \n",
      "Snack Bars                                47.42735       9.65812   \n",
      "Pasta Sauce                              52.461538     10.653846   \n",
      "Ecommerce Apparel Retail                320.465201     21.537546   \n",
      "Ecommerce Mainstream Apparel Retail     519.788462         30.25   \n",
      "Sporting Goods                           65.736264      4.401099   \n",
      "Casual Dining                           165.533333     28.848718   \n",
      "Hard Luxury                             103.809903     16.217416   \n",
      "Sportswear & Athleisure                 479.889632     83.929174   \n",
      "Athleisure                              267.373303     37.291667   \n",
      "Footwear                                424.340237     35.230425   \n",
      "Beauty & Boutique                        481.84326     88.449332   \n",
      "Building Products                        36.730697      6.366013   \n",
      "Sportswear                              664.306319     117.06456   \n",
      "Petcare                                 108.926573     16.031579   \n",
      "Premium Brands                           84.925018     16.416727   \n",
      "QSR                                     652.362981    143.574519   \n",
      "Alcohol                                  64.345066      19.26177   \n",
      "Toys & Collectibles                     205.390244      32.64878   \n",
      "Mattress                                 53.439103      9.012821   \n",
      "Fitness & Exercise                      159.160199     40.445771   \n",
      "US Discount Store                        32.667832      4.884615   \n",
      "Ecommerce Luxury Apparel Retail         135.461538     11.591716   \n",
      "Plant-Based Meat                         24.191813      3.238543   \n",
      "Food Retail                             218.384615     49.358974   \n",
      "Discount Retailers                       37.823077     10.923077   \n",
      "Mid-Range Watch & Jewelry               281.387524     37.388994   \n",
      "Outdoor Gear                            152.832579     16.263345   \n",
      "Plant-Based Dairy                        21.716287      6.626594   \n",
      "Mainstream Brands                       335.861386     59.885149   \n",
      "Dermatology and Orthodontics             34.385542      8.638978   \n",
      "Dermatology                              13.736842      2.057416   \n",
      "Entertainment                           266.865385    161.980769   \n",
      "Workout Gear                             97.865385     23.596154   \n",
      "Yoghurt                                  42.659341     12.164835   \n",
      "Home Appliances                          25.215805     10.353312   \n",
      "Soda                                    210.490385    114.274038   \n",
      "Fast Casual                              87.346154     17.549451   \n",
      "Study (All Brands)                    85378.211538  15122.288462   \n",
      "Orthodontics                             53.102564     14.576923   \n",
      "\n",
      "                                           comments             likes  \\\n",
      "Soft Luxury                            20759.432916    3584223.619857   \n",
      "Luxury & Premium & Mainstream          10780.889389    1751457.357531   \n",
      "US Softlines Analyst Interest List     56336.013468    6673191.229341   \n",
      "Global Luxury Analysts Interest List   14018.509401    2353784.603995   \n",
      "Coffee                                 32521.984615         2317693.4   \n",
      "Restaurants                               18955.275     554188.121154   \n",
      "Beverages                               6026.554151     476431.616098   \n",
      "Sports drinks                           1934.057692      58281.576923   \n",
      "Energy drinks                          28320.852564    3150398.378205   \n",
      "Fast Fashion                           63448.322262    4761328.789048   \n",
      "Omnichannel Apparel Retail              25364.86678    3869009.580239   \n",
      "Apparel Retail                         25540.701202     2418105.27649   \n",
      "US Department Store                     4680.864865     317594.385586   \n",
      "Latam Apparel Retail                    8562.668269     600842.846154   \n",
      "Food Products                           1995.852667      31183.837426   \n",
      "Snack Bars                              3333.645299      40709.196581   \n",
      "Pasta Sauce                              966.980769      21413.602564   \n",
      "Ecommerce Apparel Retail               54242.880037    3307800.257326   \n",
      "Ecommerce Mainstream Apparel Retail      108797.275    6601083.561538   \n",
      "Sporting Goods                          3023.686813      345899.89011   \n",
      "Casual Dining                           4327.666667      86249.674359   \n",
      "Hard Luxury                             3753.867957     642981.501423   \n",
      "Sportswear & Athleisure                 21086.68311     2742079.10786   \n",
      "Athleisure                             14633.837104     620157.383484   \n",
      "Footwear                               13424.538462     976323.825444   \n",
      "Beauty & Boutique                      74267.806716    3162911.332292   \n",
      "Building Products                        260.644068       8005.412429   \n",
      "Sportswear                             24905.039835    3960141.809066   \n",
      "Petcare                                  750.727273      22435.321678   \n",
      "Premium Brands                          7770.615717    1120391.995674   \n",
      "QSR                                    31288.040865     525480.762019   \n",
      "Alcohol                                 1108.466416      34992.708726   \n",
      "Toys & Collectibles                    37837.204878    1356520.170732   \n",
      "Mattress                                 662.461538       7026.894231   \n",
      "Fitness & Exercise                      3327.076617     105881.576119   \n",
      "US Discount Store                        958.797203      76246.629371   \n",
      "Ecommerce Luxury Apparel Retail         4088.260355     353760.908284   \n",
      "Plant-Based Meat                        1613.211696      28955.506433   \n",
      "Food Retail                            13592.775641     127815.346154   \n",
      "Discount Retailers                      5530.676923     270934.761538   \n",
      "Mid-Range Watch & Jewelry               9750.986767    1262255.486767   \n",
      "Outdoor Gear                            4040.036199     257694.452489   \n",
      "Plant-Based Dairy                       1379.201401      25648.353765   \n",
      "Mainstream Brands                      11129.643564     2487217.60396   \n",
      "Dermatology and Orthodontics            1051.492958      10584.850299   \n",
      "Dermatology                               12.888889       1017.869565   \n",
      "Entertainment                         138008.990385   18132365.403846   \n",
      "Workout Gear                           18235.044872    1379230.378205   \n",
      "Yoghurt                                 1883.351648      23409.637363   \n",
      "Home Appliances                          360.449848       5563.629179   \n",
      "Soda                                    7925.086538     191783.600962   \n",
      "Fast Casual                             4296.774725     125374.362637   \n",
      "Study (All Brands)                        7943989.0  597209000.461538   \n",
      "Orthodontics                            1899.384615      21161.730769   \n",
      "\n",
      "                                            followers  \n",
      "Soft Luxury                           14917000.493759  \n",
      "Luxury & Premium & Mainstream          7270675.897024  \n",
      "US Softlines Analyst Interest List    24216149.007814  \n",
      "Global Luxury Analysts Interest List   9967898.598048  \n",
      "Coffee                                11883839.371901  \n",
      "Restaurants                            3436911.360772  \n",
      "Beverages                              2283069.426148  \n",
      "Sports drinks                           940118.201005  \n",
      "Energy drinks                          6081182.353846  \n",
      "Fast Fashion                           9448813.022271  \n",
      "Omnichannel Apparel Retail            10790538.649566  \n",
      "Apparel Retail                         5731867.365779  \n",
      "US Department Store                    2285751.713287  \n",
      "Latam Apparel Retail                   4531869.403846  \n",
      "Food Products                           211236.349345  \n",
      "Snack Bars                              448908.955224  \n",
      "Pasta Sauce                              88847.626016  \n",
      "Ecommerce Apparel Retail                3081770.94072  \n",
      "Ecommerce Mainstream Apparel Retail    4916307.349721  \n",
      "Sporting Goods                         1274627.949296  \n",
      "Casual Dining                           674272.927419  \n",
      "Hard Luxury                            3378189.552723  \n",
      "Sportswear & Athleisure               17954954.435615  \n",
      "Athleisure                             2324615.894472  \n",
      "Footwear                               2517003.456091  \n",
      "Beauty & Boutique                      6474889.371237  \n",
      "Building Products                        59216.482014  \n",
      "Sportswear                            29341500.662829  \n",
      "Petcare                                 205338.165094  \n",
      "Premium Brands                         5746343.485755  \n",
      "QSR                                    4021187.508197  \n",
      "Alcohol                                 390813.776366  \n",
      "Toys & Collectibles                    1612601.147541  \n",
      "Mattress                                 69674.361174  \n",
      "Fitness & Exercise                      482382.007212  \n",
      "US Discount Store                      1154108.801444  \n",
      "Ecommerce Luxury Apparel Retail        1428330.452774  \n",
      "Plant-Based Meat                        142985.980738  \n",
      "Food Retail                              933188.52439  \n",
      "Discount Retailers                     2369620.352113  \n",
      "Mid-Range Watch & Jewelry              2681951.278613  \n",
      "Outdoor Gear                            977918.195312  \n",
      "Plant-Based Dairy                       154158.908068  \n",
      "Mainstream Brands                      7076463.008368  \n",
      "Dermatology and Orthodontics            175229.876106  \n",
      "Dermatology                              73880.436782  \n",
      "Entertainment                         15603911.846154  \n",
      "Workout Gear                           1911101.295238  \n",
      "Yoghurt                                  143554.49505  \n",
      "Home Appliances                                   NaN  \n",
      "Soda                                   3642844.990536  \n",
      "Fast Casual                             572439.646377  \n",
      "Study (All Brands)                       1633834674.5  \n",
      "Orthodontics                            257180.346154  \n"
     ]
    },
    {
     "name": "stderr",
     "output_type": "stream",
     "text": [
      "C:\\Users\\Usee\\AppData\\Local\\Temp\\ipykernel_9540\\2763886763.py:16: RuntimeWarning: Mean of empty slice\n",
      "  table.loc[cat, col] = np.nanmean(df_cat[col])\n"
     ]
    }
   ],
   "source": [
    "def average_table(df, category_column, interesting_period, period: str=\"yearly\"):\n",
    "    cols = [\"pictures\", \"videos\", \"comments\", \"likes\", \"followers\"] \n",
    "    cats = df[category_column].unique()\n",
    "    table = pd.DataFrame(columns=cols, index=cats)\n",
    "    \n",
    "    if period == \"yearly\":\n",
    "        df[\"time\"] = pd.to_datetime(df[\"period_end_date\"]).dt.year\n",
    "    elif period == \"montly\":\n",
    "        df[\"time\"] = pd.to_datetime(df[\"period_end_date\"]).dt.month\n",
    "\n",
    "    df = df[df[\"time\"] == interesting_period]\n",
    "\n",
    "    for cat in cats:\n",
    "        df_cat = df[df[category_column] == cat]\n",
    "        for col in cols:\n",
    "            table.loc[cat, col] = np.nanmean(df_cat[col])\n",
    "    \n",
    "    return table\n",
    "\n",
    "table = average_table(data, \"compset\", 2018) "
   ]
  },
  {
   "cell_type": "code",
   "execution_count": null,
   "metadata": {},
   "outputs": [],
   "source": [
    "\n",
    "def table_yearly_means(df, col, category_column, period=\"yearly\"):\n",
    "    unique_categories = df[category_column].unique()\n",
    "    \n",
    "    yearly_means_all = []  \n",
    "\n",
    "    for category_value in unique_categories:\n",
    "        yearly_means = calculate_yearly_means(df, col, category_column, category_value, period=period)\n",
    "        yearly_means['Category'] = category_value\n",
    "        \n",
    "        # Append the results to the DataFrame\n",
    "        yearly_means_all.append(yearly_means)\n",
    "\n",
    "    return pd.DataFrame(yearly_means_all)\n",
    "\n",
    "mean_table = table_yearly_means(df=data,  col=\"followers\", category_column=\"compset\", period=\"yearly\")\n",
    "print(mean_table)"
   ]
  }
 ],
 "metadata": {
  "kernelspec": {
   "display_name": "dt",
   "language": "python",
   "name": "python3"
  },
  "language_info": {
   "codemirror_mode": {
    "name": "ipython",
    "version": 3
   },
   "file_extension": ".py",
   "mimetype": "text/x-python",
   "name": "python",
   "nbconvert_exporter": "python",
   "pygments_lexer": "ipython3",
   "version": "3.12.3"
  }
 },
 "nbformat": 4,
 "nbformat_minor": 2
}
