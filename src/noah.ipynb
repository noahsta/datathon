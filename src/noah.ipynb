{
 "cells": [
  {
   "cell_type": "markdown",
   "metadata": {},
   "source": [
    "# UBS Challange"
   ]
  },
  {
   "cell_type": "code",
   "execution_count": 2,
   "metadata": {},
   "outputs": [
    {
     "name": "stdout",
     "output_type": "stream",
     "text": [
      "c:\\Users\\Usee\\Documents\\Datathon_24\\datathon\\src\\..\\data\n"
     ]
    }
   ],
   "source": [
    "import pandas as pd\n",
    "import numpy as np\n",
    "import os\n",
    "\n",
    "path = os.path.join(os.path.join(os.getcwd(), os.pardir),\"data\")\n",
    "print(path)"
   ]
  },
  {
   "cell_type": "code",
   "execution_count": 3,
   "metadata": {},
   "outputs": [
    {
     "name": "stdout",
     "output_type": "stream",
     "text": [
      "          followers       pictures         videos      comments         likes\n",
      "count  5.792580e+05  695803.000000  684349.000000  6.953430e+05  6.959770e+05\n",
      "mean   1.342432e+07     344.272540      61.244426  3.043246e+04  2.163189e+06\n",
      "std    1.106975e+08    2777.396873     564.468480  2.766459e+05  1.803193e+07\n",
      "min    0.000000e+00       0.000000       0.000000  0.000000e+00  0.000000e+00\n",
      "25%    3.013372e+05      19.000000       2.000000  3.710000e+02  1.727700e+04\n",
      "50%    1.104144e+06      44.000000       7.000000  1.435000e+03  9.318400e+04\n",
      "75%    4.479325e+06     122.000000      20.000000  5.872000e+03  4.577470e+05\n",
      "max    3.502565e+09  141746.000000   35905.000000  1.732046e+07  7.120711e+08\n"
     ]
    }
   ],
   "source": [
    "file = os.path.join(path, \"skylab_instagram_datathon_dataset.csv\")\n",
    "data = pd.read_csv(file, delimiter=\";\")\n",
    "print(data.describe())"
   ]
  },
  {
   "cell_type": "markdown",
   "metadata": {},
   "source": [
    "# Explore Companies"
   ]
  },
  {
   "cell_type": "code",
   "execution_count": 8,
   "metadata": {},
   "outputs": [
    {
     "name": "stdout",
     "output_type": "stream",
     "text": [
      "number companies:  54\n"
     ]
    },
    {
     "data": {
      "image/png": "[encoded data removed]",
      "text/plain": [
       "<Figure size 640x480 with 1 Axes>"
      ]
     },
     "metadata": {},
     "output_type": "display_data"
    },
    {
     "name": "stdout",
     "output_type": "stream",
     "text": [
      "                                     entries   na\n",
      "Global Luxury Analysts Interest List   29233  NaN\n",
      "Beauty & Boutique                      44266  NaN\n",
      "Luxury & Premium & Mainstream          64541  NaN\n",
      "Apparel Retail                         69341  NaN\n",
      "US Softlines Analyst Interest List    113744  NaN\n"
     ]
    }
   ],
   "source": [
    "import matplotlib.pyplot as plt\n",
    "\n",
    "def count_entries(data: pd.DataFrame, column: str):\n",
    "    cats = list(set(list(data[\"compset\"])))\n",
    "    print(\"number companies: \", len(cats))\n",
    "\n",
    "    table = pd.DataFrame(columns=[\"entries\", \"na\"], index=cats)\n",
    "    for company in cats:\n",
    "        data_company = data[data[\"compset\"] == company]\n",
    "        table.loc[company, \"entries\"] = len(data_company)\n",
    "    table = table.sort_values(by=[\"entries\"])\n",
    "    return table\n",
    "\n",
    "table = count_entries(data=data, column=\"compset\")\n",
    "plt.plot(table[\"na\"])\n",
    "plt.show()\n",
    "print(table[-5:])"
   ]
  },
  {
   "cell_type": "code",
   "execution_count": null,
   "metadata": {},
   "outputs": [],
   "source": [
    "def calculate_yearly_means(df, col, category_column, category_value, period: str=\"yearly\"):\n",
    "    filtered_df = df[df[category_column] == category_value]\n",
    "    \n",
    "    # Convert the index to datetime if it's not already\n",
    "    if period == \"yearly\":\n",
    "        filtered_df[\"time\"] = pd.to_datetime(filtered_df[\"period_end_date\"]).dt.year\n",
    "    elif period == \"montly\":\n",
    "        filtered_df[\"time\"] = pd.to_datetime(filtered_df[\"period_end_date\"]).dt.month\n",
    "\n",
    "    yearly_means = filtered_df[col].groupby(filtered_df[\"time\"]).mean()\n",
    "    \n",
    "    return yearly_means\n",
    "\n",
    "print(calculate_yearly_means(data, \"followers\", \"compset\", \"Soft Luxury\", period=\"yearly\"))"
   ]
  },
  {
   "cell_type": "code",
   "execution_count": 39,
   "metadata": {},
   "outputs": [
    {
     "name": "stdout",
     "output_type": "stream",
     "text": [
      "                                             pictures           videos  \\\n",
      "Soft Luxury                           14917000.493759  14917000.493759   \n",
      "Luxury & Premium & Mainstream          7270675.897024   7270675.897024   \n",
      "US Softlines Analyst Interest List    24216149.007814  24216149.007814   \n",
      "Global Luxury Analysts Interest List   9967898.598048   9967898.598048   \n",
      "Coffee                                11883839.371901  11883839.371901   \n",
      "Restaurants                            3436911.360772   3436911.360772   \n",
      "Beverages                              2283069.426148   2283069.426148   \n",
      "Sports drinks                           940118.201005    940118.201005   \n",
      "Energy drinks                          6081182.353846   6081182.353846   \n",
      "Fast Fashion                           9448813.022271   9448813.022271   \n",
      "Omnichannel Apparel Retail            10790538.649566  10790538.649566   \n",
      "Apparel Retail                         5731867.365779   5731867.365779   \n",
      "US Department Store                    2285751.713287   2285751.713287   \n",
      "Latam Apparel Retail                   4531869.403846   4531869.403846   \n",
      "Food Products                           211236.349345    211236.349345   \n",
      "Snack Bars                              448908.955224    448908.955224   \n",
      "Pasta Sauce                              88847.626016     88847.626016   \n",
      "Ecommerce Apparel Retail                3081770.94072    3081770.94072   \n",
      "Ecommerce Mainstream Apparel Retail    4916307.349721   4916307.349721   \n",
      "Sporting Goods                         1274627.949296   1274627.949296   \n",
      "Casual Dining                           674272.927419    674272.927419   \n",
      "Hard Luxury                            3378189.552723   3378189.552723   \n",
      "Sportswear & Athleisure               17954954.435615  17954954.435615   \n",
      "Athleisure                             2324615.894472   2324615.894472   \n",
      "Footwear                               2517003.456091   2517003.456091   \n",
      "Beauty & Boutique                      6474889.371237   6474889.371237   \n",
      "Building Products                        59216.482014     59216.482014   \n",
      "Sportswear                            29341500.662829  29341500.662829   \n",
      "Petcare                                 205338.165094    205338.165094   \n",
      "Premium Brands                         5746343.485755   5746343.485755   \n",
      "QSR                                    4021187.508197   4021187.508197   \n",
      "Alcohol                                 390813.776366    390813.776366   \n",
      "Toys & Collectibles                    1612601.147541   1612601.147541   \n",
      "Mattress                                 69674.361174     69674.361174   \n",
      "Fitness & Exercise                      482382.007212    482382.007212   \n",
      "US Discount Store                      1154108.801444   1154108.801444   \n",
      "Ecommerce Luxury Apparel Retail        1428330.452774   1428330.452774   \n",
      "Plant-Based Meat                        142985.980738    142985.980738   \n",
      "Food Retail                              933188.52439     933188.52439   \n",
      "Discount Retailers                     2369620.352113   2369620.352113   \n",
      "Mid-Range Watch & Jewelry              2681951.278613   2681951.278613   \n",
      "Outdoor Gear                            977918.195312    977918.195312   \n",
      "Plant-Based Dairy                       154158.908068    154158.908068   \n",
      "Mainstream Brands                      7076463.008368   7076463.008368   \n",
      "Dermatology and Orthodontics            175229.876106    175229.876106   \n",
      "Dermatology                              73880.436782     73880.436782   \n",
      "Entertainment                         15603911.846154  15603911.846154   \n",
      "Workout Gear                           1911101.295238   1911101.295238   \n",
      "Yoghurt                                  143554.49505     143554.49505   \n",
      "Home Appliances                                   NaN              NaN   \n",
      "Soda                                   3642844.990536   3642844.990536   \n",
      "Fast Casual                             572439.646377    572439.646377   \n",
      "Study (All Brands)                       1633834674.5     1633834674.5   \n",
      "Orthodontics                            257180.346154    257180.346154   \n",
      "\n",
      "                                             comments            likes  \\\n",
      "Soft Luxury                           14917000.493759  14917000.493759   \n",
      "Luxury & Premium & Mainstream          7270675.897024   7270675.897024   \n",
      "US Softlines Analyst Interest List    24216149.007814  24216149.007814   \n",
      "Global Luxury Analysts Interest List   9967898.598048   9967898.598048   \n",
      "Coffee                                11883839.371901  11883839.371901   \n",
      "Restaurants                            3436911.360772   3436911.360772   \n",
      "Beverages                              2283069.426148   2283069.426148   \n",
      "Sports drinks                           940118.201005    940118.201005   \n",
      "Energy drinks                          6081182.353846   6081182.353846   \n",
      "Fast Fashion                           9448813.022271   9448813.022271   \n",
      "Omnichannel Apparel Retail            10790538.649566  10790538.649566   \n",
      "Apparel Retail                         5731867.365779   5731867.365779   \n",
      "US Department Store                    2285751.713287   2285751.713287   \n",
      "Latam Apparel Retail                   4531869.403846   4531869.403846   \n",
      "Food Products                           211236.349345    211236.349345   \n",
      "Snack Bars                              448908.955224    448908.955224   \n",
      "Pasta Sauce                              88847.626016     88847.626016   \n",
      "Ecommerce Apparel Retail                3081770.94072    3081770.94072   \n",
      "Ecommerce Mainstream Apparel Retail    4916307.349721   4916307.349721   \n",
      "Sporting Goods                         1274627.949296   1274627.949296   \n",
      "Casual Dining                           674272.927419    674272.927419   \n",
      "Hard Luxury                            3378189.552723   3378189.552723   \n",
      "Sportswear & Athleisure               17954954.435615  17954954.435615   \n",
      "Athleisure                             2324615.894472   2324615.894472   \n",
      "Footwear                               2517003.456091   2517003.456091   \n",
      "Beauty & Boutique                      6474889.371237   6474889.371237   \n",
      "Building Products                        59216.482014     59216.482014   \n",
      "Sportswear                            29341500.662829  29341500.662829   \n",
      "Petcare                                 205338.165094    205338.165094   \n",
      "Premium Brands                         5746343.485755   5746343.485755   \n",
      "QSR                                    4021187.508197   4021187.508197   \n",
      "Alcohol                                 390813.776366    390813.776366   \n",
      "Toys & Collectibles                    1612601.147541   1612601.147541   \n",
      "Mattress                                 69674.361174     69674.361174   \n",
      "Fitness & Exercise                      482382.007212    482382.007212   \n",
      "US Discount Store                      1154108.801444   1154108.801444   \n",
      "Ecommerce Luxury Apparel Retail        1428330.452774   1428330.452774   \n",
      "Plant-Based Meat                        142985.980738    142985.980738   \n",
      "Food Retail                              933188.52439     933188.52439   \n",
      "Discount Retailers                     2369620.352113   2369620.352113   \n",
      "Mid-Range Watch & Jewelry              2681951.278613   2681951.278613   \n",
      "Outdoor Gear                            977918.195312    977918.195312   \n",
      "Plant-Based Dairy                       154158.908068    154158.908068   \n",
      "Mainstream Brands                      7076463.008368   7076463.008368   \n",
      "Dermatology and Orthodontics            175229.876106    175229.876106   \n",
      "Dermatology                              73880.436782     73880.436782   \n",
      "Entertainment                         15603911.846154  15603911.846154   \n",
      "Workout Gear                           1911101.295238   1911101.295238   \n",
      "Yoghurt                                  143554.49505     143554.49505   \n",
      "Home Appliances                                   NaN              NaN   \n",
      "Soda                                   3642844.990536   3642844.990536   \n",
      "Fast Casual                             572439.646377    572439.646377   \n",
      "Study (All Brands)                       1633834674.5     1633834674.5   \n",
      "Orthodontics                            257180.346154    257180.346154   \n",
      "\n",
      "                                            followers  \n",
      "Soft Luxury                           14917000.493759  \n",
      "Luxury & Premium & Mainstream          7270675.897024  \n",
      "US Softlines Analyst Interest List    24216149.007814  \n",
      "Global Luxury Analysts Interest List   9967898.598048  \n",
      "Coffee                                11883839.371901  \n",
      "Restaurants                            3436911.360772  \n",
      "Beverages                              2283069.426148  \n",
      "Sports drinks                           940118.201005  \n",
      "Energy drinks                          6081182.353846  \n",
      "Fast Fashion                           9448813.022271  \n",
      "Omnichannel Apparel Retail            10790538.649566  \n",
      "Apparel Retail                         5731867.365779  \n",
      "US Department Store                    2285751.713287  \n",
      "Latam Apparel Retail                   4531869.403846  \n",
      "Food Products                           211236.349345  \n",
      "Snack Bars                              448908.955224  \n",
      "Pasta Sauce                              88847.626016  \n",
      "Ecommerce Apparel Retail                3081770.94072  \n",
      "Ecommerce Mainstream Apparel Retail    4916307.349721  \n",
      "Sporting Goods                         1274627.949296  \n",
      "Casual Dining                           674272.927419  \n",
      "Hard Luxury                            3378189.552723  \n",
      "Sportswear & Athleisure               17954954.435615  \n",
      "Athleisure                             2324615.894472  \n",
      "Footwear                               2517003.456091  \n",
      "Beauty & Boutique                      6474889.371237  \n",
      "Building Products                        59216.482014  \n",
      "Sportswear                            29341500.662829  \n",
      "Petcare                                 205338.165094  \n",
      "Premium Brands                         5746343.485755  \n",
      "QSR                                    4021187.508197  \n",
      "Alcohol                                 390813.776366  \n",
      "Toys & Collectibles                    1612601.147541  \n",
      "Mattress                                 69674.361174  \n",
      "Fitness & Exercise                      482382.007212  \n",
      "US Discount Store                      1154108.801444  \n",
      "Ecommerce Luxury Apparel Retail        1428330.452774  \n",
      "Plant-Based Meat                        142985.980738  \n",
      "Food Retail                              933188.52439  \n",
      "Discount Retailers                     2369620.352113  \n",
      "Mid-Range Watch & Jewelry              2681951.278613  \n",
      "Outdoor Gear                            977918.195312  \n",
      "Plant-Based Dairy                       154158.908068  \n",
      "Mainstream Brands                      7076463.008368  \n",
      "Dermatology and Orthodontics            175229.876106  \n",
      "Dermatology                              73880.436782  \n",
      "Entertainment                         15603911.846154  \n",
      "Workout Gear                           1911101.295238  \n",
      "Yoghurt                                  143554.49505  \n",
      "Home Appliances                                   NaN  \n",
      "Soda                                   3642844.990536  \n",
      "Fast Casual                             572439.646377  \n",
      "Study (All Brands)                       1633834674.5  \n",
      "Orthodontics                            257180.346154  \n"
     ]
    },
    {
     "name": "stderr",
     "output_type": "stream",
     "text": [
      "C:\\Users\\Usee\\AppData\\Local\\Temp\\ipykernel_9540\\1151104227.py:16: RuntimeWarning: Mean of empty slice\n",
      "  table.loc[cat, cols] = np.nanmean(df_cat[col])\n"
     ]
    }
   ],
   "source": [
    "def average_table(df, category_column, interesting_period, period: str=\"yearly\"):\n",
    "    cols = [\"pictures\", \"videos\", \"comments\", \"likes\", \"followers\"] \n",
    "    cats = df[category_column].unique()\n",
    "    table = pd.DataFrame(columns=cols, index=cats)\n",
    "    \n",
    "    if period == \"yearly\":\n",
    "        df[\"time\"] = pd.to_datetime(df[\"period_end_date\"]).dt.year\n",
    "    elif period == \"montly\":\n",
    "        df[\"time\"] = pd.to_datetime(df[\"period_end_date\"]).dt.month\n",
    "\n",
    "    df = df[df[\"time\"] == interesting_period]\n",
    "\n",
    "    for cat in cats:\n",
    "        df_cat = df[df[category_column] == cat]\n",
    "        for col in cols:\n",
    "            table.loc[cat, cols] = np.nanmean(df_cat[col])\n",
    "    \n",
    "    return table\n",
    "\n",
    "print(average_table(data, \"compset\", 2018))"
   ]
  },
  {
   "cell_type": "code",
   "execution_count": null,
   "metadata": {},
   "outputs": [],
   "source": [
    "\n",
    "def table_yearly_means(df, col, category_column, period=\"yearly\"):\n",
    "    unique_categories = df[category_column].unique()\n",
    "    \n",
    "    yearly_means_all = []  \n",
    "\n",
    "    for category_value in unique_categories:\n",
    "        yearly_means = calculate_yearly_means(df, col, category_column, category_value, period=period)\n",
    "        yearly_means['Category'] = category_value\n",
    "        \n",
    "        # Append the results to the DataFrame\n",
    "        yearly_means_all.append(yearly_means)\n",
    "\n",
    "    return pd.DataFrame(yearly_means_all)\n",
    "\n",
    "mean_table = table_yearly_means(df=data,  col=\"followers\", category_column=\"compset\", period=\"yearly\")\n",
    "print(mean_table)"
   ]
  }
 ],
 "metadata": {
  "kernelspec": {
   "display_name": "dt",
   "language": "python",
   "name": "python3"
  },
  "language_info": {
   "codemirror_mode": {
    "name": "ipython",
    "version": 3
   },
   "file_extension": ".py",
   "mimetype": "text/x-python",
   "name": "python",
   "nbconvert_exporter": "python",
   "pygments_lexer": "ipython3",
   "version": "3.12.3"
  }
 },
 "nbformat": 4,
 "nbformat_minor": 2
}
