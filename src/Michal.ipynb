{
 "cells": [
  {
   "cell_type": "code",
   "execution_count": 1,
   "metadata": {},
   "outputs": [],
   "source": [
    "import pandas as pd\n",
    "data_path = '../data/skylab_instagram_datathon_dataset.csv'\n",
    "\n",
    "data = pd.read_csv(data_path, delimiter=';')  # Specify the delimiter (e.g., comma)"
   ]
  },
  {
   "cell_type": "code",
   "execution_count": 5,
   "metadata": {},
   "outputs": [
    {
     "data": {
      "text/plain": [
       "array(['Soft Luxury', 'Luxury & Premium & Mainstream',\n",
       "       'US Softlines Analyst Interest List',\n",
       "       'Global Luxury Analysts Interest List', 'Coffee', 'Restaurants',\n",
       "       'Beverages', 'Sports drinks', 'Energy drinks', 'Fast Fashion',\n",
       "       'Omnichannel Apparel Retail', 'Apparel Retail',\n",
       "       'US Department Store', 'Latam Apparel Retail', 'Food Products',\n",
       "       'Snack Bars', 'Pasta Sauce', 'Ecommerce Apparel Retail',\n",
       "       'Ecommerce Mainstream Apparel Retail', 'Sporting Goods',\n",
       "       'Casual Dining', 'Hard Luxury', 'Sportswear & Athleisure',\n",
       "       'Athleisure', 'Footwear', 'Beauty & Boutique', 'Building Products',\n",
       "       'Sportswear', 'Petcare', 'Premium Brands', 'QSR', 'Alcohol',\n",
       "       'Toys & Collectibles', 'Mattress', 'Fitness & Exercise',\n",
       "       'US Discount Store', 'Ecommerce Luxury Apparel Retail',\n",
       "       'Plant-Based Meat', 'Food Retail', 'Discount Retailers ',\n",
       "       'Mid-Range Watch & Jewelry', 'Outdoor Gear', 'Plant-Based Dairy',\n",
       "       'Mainstream Brands', 'Dermatology and Orthodontics', 'Dermatology',\n",
       "       'Entertainment', 'Workout Gear', 'Yoghurt', 'Home Appliances',\n",
       "       'Soda', 'Fast Casual', 'Study (All Brands)', 'Orthodontics'],\n",
       "      dtype=object)"
      ]
     },
     "execution_count": 5,
     "metadata": {},
     "output_type": "execute_result"
    }
   ],
   "source": [
    "data[\"compset\"].unique()\n",
    "\n",
    "for compset_idx in data[\"compset\"].unique():\n",
    "    print(compset_idx,)"
   ]
  }
 ],
 "metadata": {
  "kernelspec": {
   "display_name": "Python 3",
   "language": "python",
   "name": "python3"
  },
  "language_info": {
   "codemirror_mode": {
    "name": "ipython",
    "version": 3
   },
   "file_extension": ".py",
   "mimetype": "text/x-python",
   "name": "python",
   "nbconvert_exporter": "python",
   "pygments_lexer": "ipython3",
   "version": "3.11.2"
  }
 },
 "nbformat": 4,
 "nbformat_minor": 2
}
